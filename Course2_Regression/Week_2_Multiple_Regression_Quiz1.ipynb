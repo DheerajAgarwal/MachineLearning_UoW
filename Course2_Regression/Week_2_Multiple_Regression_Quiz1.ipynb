{
 "cells": [
  {
   "cell_type": "markdown",
   "metadata": {},
   "source": [
    "# Solutions to QUIZ 1\n",
    "\n",
    "## Session Info"
   ]
  },
  {
   "cell_type": "code",
   "execution_count": 1,
   "metadata": {
    "collapsed": false
   },
   "outputs": [
    {
     "data": {
      "application/json": {
       "Software versions": [
        {
         "module": "Python",
         "version": "2.7.12 64bit [MSC v.1500 64 bit (AMD64)]"
        },
        {
         "module": "IPython",
         "version": "5.1.0"
        },
        {
         "module": "OS",
         "version": "Windows 10 10.0.14393"
        }
       ]
      },
      "text/html": [
       "<table><tr><th>Software</th><th>Version</th></tr><tr><td>Python</td><td>2.7.12 64bit [MSC v.1500 64 bit (AMD64)]</td></tr><tr><td>IPython</td><td>5.1.0</td></tr><tr><td>OS</td><td>Windows 10 10.0.14393</td></tr><tr><td colspan='2'>Sun Dec 11 19:39:24 2016 Eastern Standard Time</td></tr></table>"
      ],
      "text/latex": [
       "\\begin{tabular}{|l|l|}\\hline\n",
       "{\\bf Software} & {\\bf Version} \\\\ \\hline\\hline\n",
       "Python & 2.7.12 64bit [MSC v.1500 64 bit (AMD64)] \\\\ \\hline\n",
       "IPython & 5.1.0 \\\\ \\hline\n",
       "OS & Windows 10 10.0.14393 \\\\ \\hline\n",
       "\\hline \\multicolumn{2}{|l|}{Sun Dec 11 19:39:24 2016 Eastern Standard Time} \\\\ \\hline\n",
       "\\end{tabular}\n"
      ],
      "text/plain": [
       "Software versions\n",
       "Python 2.7.12 64bit [MSC v.1500 64 bit (AMD64)]\n",
       "IPython 5.1.0\n",
       "OS Windows 10 10.0.14393\n",
       "Sun Dec 11 19:39:24 2016 Eastern Standard Time"
      ]
     },
     "execution_count": 1,
     "metadata": {},
     "output_type": "execute_result"
    }
   ],
   "source": [
    "import version_information\n",
    "%load_ext version_information\n",
    "%version_information"
   ]
  },
  {
   "cell_type": "markdown",
   "metadata": {},
   "source": [
    "## Solutions\n",
    "\n",
    "### Question 1\n",
    "\n",
    "Which of the following is **NOT** a linear regression model.  \n",
    "\n",
    "$$ y = w_0+w_1x$$\n",
    "$$ y = w_0+w_1x^2 $$\n",
    "$$ y = w_0+w_1log(x) $$\n",
    "$$ y = w_0w_1+log(w_1)x $$\n",
    "\n",
    "_Hint: Remember that a linear regression model is always linear in the parameters, but may use non-linear features._"
   ]
  },
  {
   "cell_type": "markdown",
   "metadata": {},
   "source": [
    "_**ANS**_: The answer is already present in the hint.\n",
    "Option 1, is standard format of a linear relation so its ruled out. \n",
    "The feature can be non-linear, hence option 2 & 3 is rule.\n",
    "The parameter can not be non-linear, hence the only valid option is 4 because the parameter $log(w_1)$ conflicts the requirement."
   ]
  },
  {
   "cell_type": "markdown",
   "metadata": {},
   "source": [
    "### Question 2\n",
    "\n",
    "Your estimated model for predicting house prices has a large positive weight on 'square feet living'. This implies that if we remove the feature 'square feet living' and refit the model, the new predictive performance will be worse than before.\n",
    "\n",
    "1. True  \n",
    "2. False"
   ]
  },
  {
   "cell_type": "markdown",
   "metadata": {},
   "source": [
    "_**ANS**_: Even though it sounds obvious to select **`TRUE`** the correct answer is **`FALSE`**. The predictive performance depends on the interaction of the omitted variable with other features."
   ]
  },
  {
   "cell_type": "markdown",
   "metadata": {},
   "source": [
    "### Question 3\n",
    "\n",
    "Complete the following: Your estimated model for predicting house prices has a positive weight on 'square feet living'. You then add 'lot size' to the model and re-estimate the feature weights. The new weight on 'square feet living' [-----------] be positive.\n",
    "\n",
    "1. will not\n",
    "2. will definitely\n",
    "3. might"
   ]
  },
  {
   "cell_type": "markdown",
   "metadata": {},
   "source": [
    "_**ANS**_: The impact of adding features may or may not impact the weight of the existing features. As the saem time, if it impacts, the impact could be either negative or positive, hence the best option is 3"
   ]
  },
  {
   "cell_type": "markdown",
   "metadata": {},
   "source": [
    "### Question 4\n",
    "\n",
    "If you double the value of a given feature (i.e. a specific column of the feature matrix), what happens to the least-squares estimated coefficients for every other feature? (assume you have no other feature that depends on the doubled feature i.e. no interaction terms).\n",
    "\n",
    "1. They double\n",
    "2. They halve\n",
    "3. They stay the same\n",
    "4. Its impossible to tell"
   ]
  },
  {
   "cell_type": "markdown",
   "metadata": {},
   "source": [
    "_**ANS**_: One of the assumptions of interpreting the coefficients in a linear regression model is to assume that the other coefficients are fixed. Given the assumption, the RSS estimates will remain the same"
   ]
  },
  {
   "cell_type": "markdown",
   "metadata": {},
   "source": [
    "### Question 5\n",
    "Gradient descent/ascent is...\n",
    "\n",
    "1. A model for predicting a continuous variable\n",
    "2. An algorithm for minimizing/maximizing a function\n",
    "3. A theoretical statistical result\n",
    "4. An approximation to simple linear regression\n",
    "5. A modeling technique in machine learning"
   ]
  },
  {
   "cell_type": "markdown",
   "metadata": {},
   "source": [
    "_**ANS**_: Its an algo for finding the minima / maxima of a function\n",
    "\n",
    "Source: [Article on Wikipedia](https://en.wikipedia.org/wiki/Gradient_descent)"
   ]
  },
  {
   "cell_type": "markdown",
   "metadata": {},
   "source": [
    "### Question 6\n",
    "\n",
    "Gradient descent/ascent allows us to...\n",
    "\n",
    "1. Predict a value based on a fitted function\n",
    "2. Estimate model parameters from data\n",
    "3. Assess performance of a model on test data"
   ]
  },
  {
   "cell_type": "markdown",
   "metadata": {},
   "source": [
    "_**ANS**_: Since gradient descent (ascent) is an algorith to arrive at the minima (maxima) of a function, it cannt be used to predict the value of the output given some inputs. Functional minima is a model parameter hence the answer is 2."
   ]
  },
  {
   "cell_type": "markdown",
   "metadata": {},
   "source": [
    "### Question 7\n",
    "\n",
    "Which of the following statements about step-size in gradient descent is/are TRUE (select all that apply)\n",
    "1. It's important to choose a very small step-size\n",
    "2. The step-size doesn't matter\n",
    "3. If the step-size is too large gradient descent may not converge\n",
    "4. If the step size is too small (but not zero) gradient descent may take a very long time to converge"
   ]
  },
  {
   "cell_type": "markdown",
   "metadata": {},
   "source": [
    "_**ANS**_: "
   ]
  },
  {
   "cell_type": "markdown",
   "metadata": {},
   "source": [
    "### Question 8\n",
    "\n",
    "Let's analyze how many computations are required to fit a multiple linear regression model using the closed-form solution based on a data set with 50 observations and 10 features. In the videos, we said that computing the inverse of the 10x10 matrix $H^TH$ was on the order of $D^3$ operations. Let's focus on forming this matrix prior to inversion. How many multiplications are required to form the matrix $H^TH$?\n",
    "\n",
    "Please enter a number below."
   ]
  },
  {
   "cell_type": "markdown",
   "metadata": {},
   "source": [
    "_**ANS**_: In general for a matrix of $N = 50$ and $D = 10$, the solution is 50X10X10 = 5000"
   ]
  },
  {
   "cell_type": "markdown",
   "metadata": {},
   "source": [
    "### Question 9\n",
    "\n",
    "More generally, if you have $D$ features and $N$ observations what is the total complexity of computing $(H^TH)^{-1}$?\n",
    "\n",
    "1. $O(D^3)$\n",
    "2. $O(ND^3)$\n",
    "3. $O(ND^2+D^3)$\n",
    "4. $O(ND^2)$\n",
    "5. $O(N^2D+D^3)$\n",
    "6. $O(N^2D)$"
   ]
  },
  {
   "cell_type": "markdown",
   "metadata": {},
   "source": [
    "_**ANS**_: Building off the last question if the inverse of a matrix multiplied with its transpose needs $D^3$ multiplications and the matrix multiplication with its transpose itself needs $ND^2$, the complexity of computing is nothing but the sum of the two.\n",
    "\n",
    "$O(ND^2+D^3)$"
   ]
  }
 ],
 "metadata": {
  "anaconda-cloud": {},
  "kernelspec": {
   "display_name": "Python [conda env:gl-env]",
   "language": "python",
   "name": "conda-env-gl-env-py"
  },
  "language_info": {
   "codemirror_mode": {
    "name": "ipython",
    "version": 2
   },
   "file_extension": ".py",
   "mimetype": "text/x-python",
   "name": "python",
   "nbconvert_exporter": "python",
   "pygments_lexer": "ipython2",
   "version": "2.7.13"
  }
 },
 "nbformat": 4,
 "nbformat_minor": 2
}
