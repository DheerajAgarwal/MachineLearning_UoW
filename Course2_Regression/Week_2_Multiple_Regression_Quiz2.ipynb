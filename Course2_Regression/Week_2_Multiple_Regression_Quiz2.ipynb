{
 "cells": [
  {
   "cell_type": "markdown",
   "metadata": {},
   "source": [
    "# Regression Week 2: Multiple Regression (Interpretation)"
   ]
  },
  {
   "cell_type": "markdown",
   "metadata": {},
   "source": [
    "The goal of this first notebook is to explore multiple regression and feature engineering with existing ~~graphlab~~ functions.\n",
    "\n",
    "In this notebook you will use data on house sales in King County to predict prices using multiple regression. You will:\n",
    "* Use ~~SFrames~~ pandas to do some feature engineering\n",
    "* Use built-in ~~graphlab~~ functions to compute the regression weights (coefficients/parameters)\n",
    "* Given the regression weights, predictors and outcome write a function to compute the Residual Sum of Squares\n",
    "* Look at coefficients and interpret their meanings\n",
    "* Evaluate multiple models via RSS"
   ]
  },
  {
   "cell_type": "markdown",
   "metadata": {},
   "source": [
    "## Constants"
   ]
  },
  {
   "cell_type": "code",
   "execution_count": 29,
   "metadata": {
    "collapsed": true
   },
   "outputs": [],
   "source": [
    "# import graphlab as glab\n",
    "\n",
    "import version_information\n",
    "import pandas as pd\n",
    "import os\n",
    "import numpy as np\n",
    "import math\n",
    "import sklearn\n",
    "from sklearn import linear_model as lm"
   ]
  },
  {
   "cell_type": "code",
   "execution_count": 30,
   "metadata": {
    "collapsed": false
   },
   "outputs": [
    {
     "name": "stdout",
     "output_type": "stream",
     "text": [
      "The version_information extension is already loaded. To reload it, use:\n",
      "  %reload_ext version_information\n"
     ]
    },
    {
     "data": {
      "application/json": {
       "Software versions": [
        {
         "module": "Python",
         "version": "2.7.12 64bit [MSC v.1500 64 bit (AMD64)]"
        },
        {
         "module": "IPython",
         "version": "5.1.0"
        },
        {
         "module": "OS",
         "version": "Windows 10 10.0.14393"
        },
        {
         "module": "pandas",
         "version": "0.19.1"
        },
        {
         "module": "numpy",
         "version": "1.11.2"
        },
        {
         "module": "math",
         "version": "The 'math' distribution was not found and is required by the application"
        },
        {
         "module": "os",
         "version": "The 'os' distribution was not found and is required by the application"
        },
        {
         "module": "sklearn",
         "version": "0.18.1"
        }
       ]
      },
      "text/html": [
       "<table><tr><th>Software</th><th>Version</th></tr><tr><td>Python</td><td>2.7.12 64bit [MSC v.1500 64 bit (AMD64)]</td></tr><tr><td>IPython</td><td>5.1.0</td></tr><tr><td>OS</td><td>Windows 10 10.0.14393</td></tr><tr><td>pandas</td><td>0.19.1</td></tr><tr><td>numpy</td><td>1.11.2</td></tr><tr><td>math</td><td>The 'math' distribution was not found and is required by the application</td></tr><tr><td>os</td><td>The 'os' distribution was not found and is required by the application</td></tr><tr><td>sklearn</td><td>0.18.1</td></tr><tr><td colspan='2'>Tue Dec 13 22:46:43 2016 Eastern Standard Time</td></tr></table>"
      ],
      "text/latex": [
       "\\begin{tabular}{|l|l|}\\hline\n",
       "{\\bf Software} & {\\bf Version} \\\\ \\hline\\hline\n",
       "Python & 2.7.12 64bit [MSC v.1500 64 bit (AMD64)] \\\\ \\hline\n",
       "IPython & 5.1.0 \\\\ \\hline\n",
       "OS & Windows 10 10.0.14393 \\\\ \\hline\n",
       "pandas & 0.19.1 \\\\ \\hline\n",
       "numpy & 1.11.2 \\\\ \\hline\n",
       "math & The 'math' distribution was not found and is required by the application \\\\ \\hline\n",
       "os & The 'os' distribution was not found and is required by the application \\\\ \\hline\n",
       "sklearn & 0.18.1 \\\\ \\hline\n",
       "\\hline \\multicolumn{2}{|l|}{Tue Dec 13 22:46:43 2016 Eastern Standard Time} \\\\ \\hline\n",
       "\\end{tabular}\n"
      ],
      "text/plain": [
       "Software versions\n",
       "Python 2.7.12 64bit [MSC v.1500 64 bit (AMD64)]\n",
       "IPython 5.1.0\n",
       "OS Windows 10 10.0.14393\n",
       "pandas 0.19.1\n",
       "numpy 1.11.2\n",
       "math The 'math' distribution was not found and is required by the application\n",
       "os The 'os' distribution was not found and is required by the application\n",
       "sklearn 0.18.1\n",
       "Tue Dec 13 22:46:43 2016 Eastern Standard Time"
      ]
     },
     "execution_count": 30,
     "metadata": {},
     "output_type": "execute_result"
    }
   ],
   "source": [
    "%load_ext version_information\n",
    "%version_information pandas, numpy, math, os, sklearn"
   ]
  },
  {
   "cell_type": "markdown",
   "metadata": {},
   "source": [
    "## Get Data\n",
    "\n",
    "Dataset is from house sales in King County, the region where the city of Seattle, WA is located."
   ]
  },
  {
   "cell_type": "code",
   "execution_count": 31,
   "metadata": {
    "collapsed": false
   },
   "outputs": [
    {
     "data": {
      "text/plain": [
       "'C:\\\\Users\\\\DrjNupurVihan\\\\Documents\\\\GitHub\\\\MachineLearning_UoW\\\\Course2_Regression'"
      ]
     },
     "execution_count": 31,
     "metadata": {},
     "output_type": "execute_result"
    }
   ],
   "source": [
    "os.getcwd()"
   ]
  },
  {
   "cell_type": "code",
   "execution_count": 32,
   "metadata": {
    "collapsed": false,
    "scrolled": true
   },
   "outputs": [],
   "source": [
    "# sales = graphlab.SFrame('kc_house_data.gl/')\n",
    "sales = pd.read_csv(\"data\\\\kc_house_train_data.csv\")\n",
    "train_data = pd.read_csv(\"data\\\\kc_house_train_data.csv\")\n",
    "test_data = pd.read_csv(\"data\\\\kc_house_test_data.csv\")"
   ]
  },
  {
   "cell_type": "code",
   "execution_count": 33,
   "metadata": {
    "collapsed": false
   },
   "outputs": [
    {
     "data": {
      "text/plain": [
       "id                 int64\n",
       "date              object\n",
       "price            float64\n",
       "bedrooms           int64\n",
       "bathrooms        float64\n",
       "sqft_living        int64\n",
       "sqft_lot           int64\n",
       "floors           float64\n",
       "waterfront         int64\n",
       "view               int64\n",
       "condition          int64\n",
       "grade              int64\n",
       "sqft_above         int64\n",
       "sqft_basement      int64\n",
       "yr_built           int64\n",
       "yr_renovated       int64\n",
       "zipcode            int64\n",
       "lat              float64\n",
       "long             float64\n",
       "sqft_living15      int64\n",
       "sqft_lot15         int64\n",
       "dtype: object"
      ]
     },
     "execution_count": 33,
     "metadata": {},
     "output_type": "execute_result"
    }
   ],
   "source": [
    "train_data.dtypes"
   ]
  },
  {
   "cell_type": "code",
   "execution_count": 34,
   "metadata": {
    "collapsed": false
   },
   "outputs": [
    {
     "data": {
      "text/html": [
       "<div>\n",
       "<table border=\"1\" class=\"dataframe\">\n",
       "  <thead>\n",
       "    <tr style=\"text-align: right;\">\n",
       "      <th></th>\n",
       "      <th>id</th>\n",
       "      <th>date</th>\n",
       "      <th>price</th>\n",
       "      <th>bedrooms</th>\n",
       "      <th>bathrooms</th>\n",
       "      <th>sqft_living</th>\n",
       "      <th>sqft_lot</th>\n",
       "      <th>floors</th>\n",
       "      <th>waterfront</th>\n",
       "      <th>view</th>\n",
       "      <th>...</th>\n",
       "      <th>grade</th>\n",
       "      <th>sqft_above</th>\n",
       "      <th>sqft_basement</th>\n",
       "      <th>yr_built</th>\n",
       "      <th>yr_renovated</th>\n",
       "      <th>zipcode</th>\n",
       "      <th>lat</th>\n",
       "      <th>long</th>\n",
       "      <th>sqft_living15</th>\n",
       "      <th>sqft_lot15</th>\n",
       "    </tr>\n",
       "  </thead>\n",
       "  <tbody>\n",
       "    <tr>\n",
       "      <th>0</th>\n",
       "      <td>7129300520</td>\n",
       "      <td>20141013T000000</td>\n",
       "      <td>221900.0</td>\n",
       "      <td>3</td>\n",
       "      <td>1.00</td>\n",
       "      <td>1180</td>\n",
       "      <td>5650</td>\n",
       "      <td>1.0</td>\n",
       "      <td>0</td>\n",
       "      <td>0</td>\n",
       "      <td>...</td>\n",
       "      <td>7</td>\n",
       "      <td>1180</td>\n",
       "      <td>0</td>\n",
       "      <td>1955</td>\n",
       "      <td>0</td>\n",
       "      <td>98178</td>\n",
       "      <td>47.5112</td>\n",
       "      <td>-122.257</td>\n",
       "      <td>1340</td>\n",
       "      <td>5650</td>\n",
       "    </tr>\n",
       "    <tr>\n",
       "      <th>1</th>\n",
       "      <td>6414100192</td>\n",
       "      <td>20141209T000000</td>\n",
       "      <td>538000.0</td>\n",
       "      <td>3</td>\n",
       "      <td>2.25</td>\n",
       "      <td>2570</td>\n",
       "      <td>7242</td>\n",
       "      <td>2.0</td>\n",
       "      <td>0</td>\n",
       "      <td>0</td>\n",
       "      <td>...</td>\n",
       "      <td>7</td>\n",
       "      <td>2170</td>\n",
       "      <td>400</td>\n",
       "      <td>1951</td>\n",
       "      <td>1991</td>\n",
       "      <td>98125</td>\n",
       "      <td>47.7210</td>\n",
       "      <td>-122.319</td>\n",
       "      <td>1690</td>\n",
       "      <td>7639</td>\n",
       "    </tr>\n",
       "    <tr>\n",
       "      <th>2</th>\n",
       "      <td>5631500400</td>\n",
       "      <td>20150225T000000</td>\n",
       "      <td>180000.0</td>\n",
       "      <td>2</td>\n",
       "      <td>1.00</td>\n",
       "      <td>770</td>\n",
       "      <td>10000</td>\n",
       "      <td>1.0</td>\n",
       "      <td>0</td>\n",
       "      <td>0</td>\n",
       "      <td>...</td>\n",
       "      <td>6</td>\n",
       "      <td>770</td>\n",
       "      <td>0</td>\n",
       "      <td>1933</td>\n",
       "      <td>0</td>\n",
       "      <td>98028</td>\n",
       "      <td>47.7379</td>\n",
       "      <td>-122.233</td>\n",
       "      <td>2720</td>\n",
       "      <td>8062</td>\n",
       "    </tr>\n",
       "    <tr>\n",
       "      <th>3</th>\n",
       "      <td>2487200875</td>\n",
       "      <td>20141209T000000</td>\n",
       "      <td>604000.0</td>\n",
       "      <td>4</td>\n",
       "      <td>3.00</td>\n",
       "      <td>1960</td>\n",
       "      <td>5000</td>\n",
       "      <td>1.0</td>\n",
       "      <td>0</td>\n",
       "      <td>0</td>\n",
       "      <td>...</td>\n",
       "      <td>7</td>\n",
       "      <td>1050</td>\n",
       "      <td>910</td>\n",
       "      <td>1965</td>\n",
       "      <td>0</td>\n",
       "      <td>98136</td>\n",
       "      <td>47.5208</td>\n",
       "      <td>-122.393</td>\n",
       "      <td>1360</td>\n",
       "      <td>5000</td>\n",
       "    </tr>\n",
       "    <tr>\n",
       "      <th>4</th>\n",
       "      <td>1954400510</td>\n",
       "      <td>20150218T000000</td>\n",
       "      <td>510000.0</td>\n",
       "      <td>3</td>\n",
       "      <td>2.00</td>\n",
       "      <td>1680</td>\n",
       "      <td>8080</td>\n",
       "      <td>1.0</td>\n",
       "      <td>0</td>\n",
       "      <td>0</td>\n",
       "      <td>...</td>\n",
       "      <td>8</td>\n",
       "      <td>1680</td>\n",
       "      <td>0</td>\n",
       "      <td>1987</td>\n",
       "      <td>0</td>\n",
       "      <td>98074</td>\n",
       "      <td>47.6168</td>\n",
       "      <td>-122.045</td>\n",
       "      <td>1800</td>\n",
       "      <td>7503</td>\n",
       "    </tr>\n",
       "  </tbody>\n",
       "</table>\n",
       "<p>5 rows × 21 columns</p>\n",
       "</div>"
      ],
      "text/plain": [
       "           id             date     price  bedrooms  bathrooms  sqft_living  \\\n",
       "0  7129300520  20141013T000000  221900.0         3       1.00         1180   \n",
       "1  6414100192  20141209T000000  538000.0         3       2.25         2570   \n",
       "2  5631500400  20150225T000000  180000.0         2       1.00          770   \n",
       "3  2487200875  20141209T000000  604000.0         4       3.00         1960   \n",
       "4  1954400510  20150218T000000  510000.0         3       2.00         1680   \n",
       "\n",
       "   sqft_lot  floors  waterfront  view     ...      grade  sqft_above  \\\n",
       "0      5650     1.0           0     0     ...          7        1180   \n",
       "1      7242     2.0           0     0     ...          7        2170   \n",
       "2     10000     1.0           0     0     ...          6         770   \n",
       "3      5000     1.0           0     0     ...          7        1050   \n",
       "4      8080     1.0           0     0     ...          8        1680   \n",
       "\n",
       "   sqft_basement  yr_built  yr_renovated  zipcode      lat     long  \\\n",
       "0              0      1955             0    98178  47.5112 -122.257   \n",
       "1            400      1951          1991    98125  47.7210 -122.319   \n",
       "2              0      1933             0    98028  47.7379 -122.233   \n",
       "3            910      1965             0    98136  47.5208 -122.393   \n",
       "4              0      1987             0    98074  47.6168 -122.045   \n",
       "\n",
       "   sqft_living15  sqft_lot15  \n",
       "0           1340        5650  \n",
       "1           1690        7639  \n",
       "2           2720        8062  \n",
       "3           1360        5000  \n",
       "4           1800        7503  \n",
       "\n",
       "[5 rows x 21 columns]"
      ]
     },
     "execution_count": 34,
     "metadata": {},
     "output_type": "execute_result"
    }
   ],
   "source": [
    "train_data.head()"
   ]
  },
  {
   "cell_type": "code",
   "execution_count": 35,
   "metadata": {
    "collapsed": true
   },
   "outputs": [],
   "source": [
    "#Split data into training and testing.\n",
    "\n",
    "#We use seed=0 so that everyone running this notebook gets the same results.\n",
    "#In practice, you may set a random seed (or let GraphLab Create pick a random seed for you).  \n",
    "\n",
    "# train_data,test_data = sales.random_split(.8,seed=0)"
   ]
  },
  {
   "cell_type": "markdown",
   "metadata": {},
   "source": [
    "## Learning a multiple regression model"
   ]
  },
  {
   "cell_type": "markdown",
   "metadata": {},
   "source": [
    "Recall we can use the following code to learn a multiple regression model predicting 'price' based on the following features:\n",
    "example_features = ['sqft_living', 'bedrooms', 'bathrooms'] on training data."
   ]
  },
  {
   "cell_type": "code",
   "execution_count": 36,
   "metadata": {
    "collapsed": false
   },
   "outputs": [
    {
     "name": "stdout",
     "output_type": "stream",
     "text": [
      "   sqft_living  bedrooms  bathrooms\n",
      "0         1180         3       1.00\n",
      "1         2570         3       2.25\n",
      "2          770         2       1.00\n",
      "3         1960         4       3.00\n",
      "4         1680         3       2.00\n"
     ]
    }
   ],
   "source": [
    "example_features = train_data.ix[:,['sqft_living', 'bedrooms', 'bathrooms']]\n",
    "print example_features.head()\n",
    "\n",
    "output = train_data.price"
   ]
  },
  {
   "cell_type": "code",
   "execution_count": 37,
   "metadata": {
    "collapsed": false
   },
   "outputs": [],
   "source": [
    "# example_model = glab.linear_regression.create(train_data, target = 'price', features = example_features, validation_set = None)\n",
    "#(Aside: We set validation_set = None to ensure that the results are always the same)\n",
    "\n",
    "\n",
    "example_model = lm.LinearRegression()\n",
    "mreg_model = example_model.fit(example_features, output)"
   ]
  },
  {
   "cell_type": "markdown",
   "metadata": {},
   "source": [
    "Now that we have fitted the model we can extract the regression weights (coefficients) as an SFrame as follows:"
   ]
  },
  {
   "cell_type": "code",
   "execution_count": 38,
   "metadata": {
    "collapsed": false
   },
   "outputs": [
    {
     "data": {
      "text/plain": [
       "array([   315.40669062, -65081.88711588,   6942.16598637])"
      ]
     },
     "execution_count": 38,
     "metadata": {},
     "output_type": "execute_result"
    }
   ],
   "source": [
    "# example_weight_summary = example_model.get(\"coefficients\")\n",
    "mreg_model.coef_\n",
    "# print example_weight_summary"
   ]
  },
  {
   "cell_type": "markdown",
   "metadata": {},
   "source": [
    "# Making Predictions\n",
    "\n",
    "In the gradient descent notebook we use numpy to do our regression. In this book we will use existing graphlab create functions to analyze multiple regressions. \n",
    "\n",
    "Recall that once a model is built we can use the .predict() function to find the predicted values for data we pass. For example using the example model above:"
   ]
  },
  {
   "cell_type": "code",
   "execution_count": 39,
   "metadata": {
    "collapsed": false
   },
   "outputs": [
    {
     "data": {
      "text/plain": [
       "271789.26537996985"
      ]
     },
     "execution_count": 39,
     "metadata": {},
     "output_type": "execute_result"
    }
   ],
   "source": [
    "# example_predictions = example_model.predict(train_data)\n",
    "mreg_model.predict(example_features)[0]\n",
    "# print example_predictions[0] # should be 271789.505878 (rounding errors may be present of not using graphlab)"
   ]
  },
  {
   "cell_type": "markdown",
   "metadata": {},
   "source": [
    "# Compute RSS"
   ]
  },
  {
   "cell_type": "markdown",
   "metadata": {},
   "source": [
    "Now that we can make predictions given the model, let's write a function to compute the RSS of the model. Complete the function below to calculate RSS given the model, data, and the outcome."
   ]
  },
  {
   "cell_type": "code",
   "execution_count": 40,
   "metadata": {
    "collapsed": true
   },
   "outputs": [],
   "source": [
    "def get_residual_sum_of_squares(model, data, outcome):\n",
    "    # First get the predictions\n",
    "    y_pred = model.predict(data)\n",
    "\n",
    "    # Then compute the residuals/errors\n",
    "    errors = y_pred - outcome\n",
    "\n",
    "    # Then square and add them up\n",
    "    RSS = (errors ** 2).sum() \n",
    "\n",
    "    return(RSS)    "
   ]
  },
  {
   "cell_type": "markdown",
   "metadata": {},
   "source": [
    "Test your function by computing the RSS on TEST data for the example model:"
   ]
  },
  {
   "cell_type": "code",
   "execution_count": 41,
   "metadata": {
    "collapsed": false
   },
   "outputs": [
    {
     "name": "stdout",
     "output_type": "stream",
     "text": [
      "2.73761940583e+14\n"
     ]
    }
   ],
   "source": [
    "# rss_example_train = get_residual_sum_of_squares(example_model, test_data, test_data['price'])\n",
    "test_features = test_data.ix[:,['sqft_living', 'bedrooms', 'bathrooms']]\n",
    "rss_example_test = get_residual_sum_of_squares(mreg_model, test_features, test_data['price'])\n",
    "print rss_example_test # should be 2.7376153833e+14 (rounding errors may be present of not using graphlab)"
   ]
  },
  {
   "cell_type": "markdown",
   "metadata": {},
   "source": [
    "## Creating new features"
   ]
  },
  {
   "cell_type": "markdown",
   "metadata": {},
   "source": [
    "Although we often think of multiple regression as including multiple different features (e.g. # of bedrooms, squarefeet, and # of bathrooms) but we can also consider transformations of existing features e.g. the log of the squarefeet or even \"interaction\" features such as the product of bedrooms and bathrooms."
   ]
  },
  {
   "cell_type": "markdown",
   "metadata": {},
   "source": [
    "Next create the following 4 new features as column in both TEST and TRAIN data:\n",
    "* bedrooms_squared = $bedrooms^2$\n",
    "* bed_bath_rooms = $bedrooms*bathrooms$\n",
    "* log_sqft_living = $log$(sqft_living)\n",
    "* lat_plus_long = lat + long \n",
    "As an example here's the first one:"
   ]
  },
  {
   "cell_type": "code",
   "execution_count": 42,
   "metadata": {
    "collapsed": true
   },
   "outputs": [],
   "source": [
    "train_data['bedrooms_squared'] = train_data['bedrooms'].apply(lambda x: x**2)\n",
    "test_data['bedrooms_squared'] = test_data['bedrooms'].apply(lambda x: x**2)"
   ]
  },
  {
   "cell_type": "code",
   "execution_count": 43,
   "metadata": {
    "collapsed": false
   },
   "outputs": [],
   "source": [
    "# creating the remaining 3 features in both TEST and TRAIN data\n",
    "\n",
    "train_data['bed_bath_rooms'] = train_data['bedrooms'] * train_data['bathrooms']\n",
    "test_data['bed_bath_rooms'] = test_data['bedrooms'] * test_data['bathrooms']\n",
    "\n",
    "train_data['log_sqft_living'] = train_data['sqft_living'].apply(math.log)\n",
    "test_data['log_sqft_living'] = test_data['sqft_living'].apply(math.log)\n",
    "\n",
    "train_data['lat_plus_long'] = train_data['lat'] + train_data['long']\n",
    "test_data['lat_plus_long'] = test_data['lat'] + test_data['long']"
   ]
  },
  {
   "cell_type": "markdown",
   "metadata": {},
   "source": [
    "* Squaring bedrooms will increase the separation between not many bedrooms (e.g. 1) and lots of bedrooms (e.g. 4) since $1^2 = 1$ but $4^2 = 16$. Consequently this feature will mostly affect houses with many bedrooms.\n",
    "* bedrooms times bathrooms gives what's called an \"interaction\" feature. It is large when *both* of them are large.\n",
    "* Taking the log of squarefeet has the effect of bringing large values closer together and spreading out small values.\n",
    "* Adding latitude to longitude is totally non-sensical but we will do it anyway (you'll see why)"
   ]
  },
  {
   "cell_type": "markdown",
   "metadata": {},
   "source": [
    "### Quiz Question 1, 2, 3, 4: \n",
    "\n",
    "What is the mean (arithmetic average) value of your 4 new features on TEST data? (round to 2 digits)"
   ]
  },
  {
   "cell_type": "code",
   "execution_count": 44,
   "metadata": {
    "collapsed": false
   },
   "outputs": [
    {
     "name": "stdout",
     "output_type": "stream",
     "text": [
      "12.45\n",
      "7.5\n",
      "7.55\n",
      "-74.65\n"
     ]
    }
   ],
   "source": [
    "print round(test_data['bedrooms_squared'].mean(),2)\n",
    "print round(test_data['bed_bath_rooms'].mean(),2)\n",
    "print round(test_data['log_sqft_living'].mean(),2)\n",
    "print round(test_data['lat_plus_long'].mean(),2)"
   ]
  },
  {
   "cell_type": "markdown",
   "metadata": {},
   "source": [
    "## Learning Multiple Models"
   ]
  },
  {
   "cell_type": "markdown",
   "metadata": {},
   "source": [
    "Now we will learn the weights for three (nested) models for predicting house prices. The first model will have the fewest features the second model will add one more feature and the third will add a few more:\n",
    "\n",
    "* Model 1: $squarefeet$, $bedrooms$, $bathrooms$, $latitude$ & $longitude$\n",
    "* Model 2: Add $bedrooms*bathrooms$  to model 1  parameters\n",
    "* Model 3: Add $log(squarefeet)$, $bedrooms^2$, and the (nonsensical) $latitude + longitude$"
   ]
  },
  {
   "cell_type": "code",
   "execution_count": 45,
   "metadata": {
    "collapsed": true
   },
   "outputs": [],
   "source": [
    "model_1_features = ['sqft_living', 'bedrooms', 'bathrooms', 'lat', 'long']\n",
    "model_2_features = model_1_features + ['bed_bath_rooms']\n",
    "model_3_features = model_2_features + ['bedrooms_squared', 'log_sqft_living', 'lat_plus_long']"
   ]
  },
  {
   "cell_type": "code",
   "execution_count": 46,
   "metadata": {
    "collapsed": false
   },
   "outputs": [],
   "source": [
    "X_model_1 = train_data.ix[:, model_1_features].copy()\n",
    "X_model_2 = train_data.ix[:, model_2_features].copy()\n",
    "X_model_3 = train_data.ix[:, model_3_features].copy()"
   ]
  },
  {
   "cell_type": "code",
   "execution_count": 47,
   "metadata": {
    "collapsed": true
   },
   "outputs": [],
   "source": [
    "Y = train_data.price"
   ]
  },
  {
   "cell_type": "markdown",
   "metadata": {},
   "source": [
    "Now that you have the features, learn the weights for the three different models for predicting target = 'price' ~~using graphlab.linear_regression.create()~~ and look at the value of the weights/coefficients. We also want to evaluate which model is best for model comparison purposes."
   ]
  },
  {
   "cell_type": "code",
   "execution_count": 48,
   "metadata": {
    "collapsed": false
   },
   "outputs": [
    {
     "name": "stdout",
     "output_type": "stream",
     "text": [
      "[  3.12258646e+02  -5.95865332e+04   1.57067421e+04   6.58619264e+05\n",
      "  -3.09374351e+05]\n",
      "9.6787996305e+14\n"
     ]
    }
   ],
   "source": [
    "# Learn the model 1 (don't forget to set validation_set = None if using graphlab)\n",
    "model_1 = example_model.fit(X_model_1, Y)\n",
    "rss_model_1_train = get_residual_sum_of_squares(model_1, X_model_1, Y)\n",
    "print model_1.coef_\n",
    "print rss_model_1_train"
   ]
  },
  {
   "cell_type": "code",
   "execution_count": 49,
   "metadata": {
    "collapsed": false
   },
   "outputs": [
    {
     "name": "stdout",
     "output_type": "stream",
     "text": [
      "[  3.06610053e+02  -1.13446368e+05  -7.14613083e+04   6.54844630e+05\n",
      "  -2.94298969e+05   2.55796520e+04]\n",
      "9.58419635074e+14\n"
     ]
    }
   ],
   "source": [
    "# Learn the model 2 (don't forget to set validation_set = None if using graphlab)\n",
    "model_2 = example_model.fit(X_model_2, Y)\n",
    "rss_model_2_train = get_residual_sum_of_squares(model_2, X_model_2, Y)\n",
    "print model_2.coef_\n",
    "print rss_model_2_train"
   ]
  },
  {
   "cell_type": "code",
   "execution_count": 50,
   "metadata": {
    "collapsed": false
   },
   "outputs": [
    {
     "name": "stdout",
     "output_type": "stream",
     "text": [
      "[  5.29422820e+02   3.45142296e+04   6.70607813e+04   5.34085611e+05\n",
      "  -4.06750711e+05  -8.57050439e+03  -6.78858667e+03  -5.61831484e+05\n",
      "   1.27334900e+05]\n",
      "9.0343645505e+14\n"
     ]
    }
   ],
   "source": [
    "# Learn the model 3 (don't forget to set validation_set = None if using graphlab)\n",
    "model_3 = example_model.fit(X_model_3, Y)\n",
    "rss_model_3_train = get_residual_sum_of_squares(model_3, X_model_3, Y)\n",
    "print model_3.coef_\n",
    "print rss_model_3_train"
   ]
  },
  {
   "cell_type": "markdown",
   "metadata": {},
   "source": [
    "### Quiz Question 5: \n",
    "\n",
    "What is the sign (positive or negative) for the coefficient/weight for 'bathrooms' in model 1?"
   ]
  },
  {
   "cell_type": "code",
   "execution_count": 51,
   "metadata": {
    "collapsed": false
   },
   "outputs": [
    {
     "name": "stdout",
     "output_type": "stream",
     "text": [
      "['sqft_living', 'bedrooms', 'bathrooms', 'lat', 'long']\n"
     ]
    }
   ],
   "source": [
    "print model_1_features\n",
    "\n",
    "# We note that bathrooms is the third feature in the list, \n",
    "# So we need to see the sign of the 3rd coefficient in the above list of model 1 coeffs (and is positive)"
   ]
  },
  {
   "cell_type": "markdown",
   "metadata": {},
   "source": [
    "### Quiz Question 6: \n",
    "\n",
    "What is the sign (positive or negative) for the coefficient/weight for 'bathrooms' in model 2?"
   ]
  },
  {
   "cell_type": "code",
   "execution_count": 52,
   "metadata": {
    "collapsed": false
   },
   "outputs": [
    {
     "name": "stdout",
     "output_type": "stream",
     "text": [
      "['sqft_living', 'bedrooms', 'bathrooms', 'lat', 'long', 'bed_bath_rooms']\n"
     ]
    }
   ],
   "source": [
    "print model_2_features\n",
    "\n",
    "# We note that bathrooms is the third feature in the list, \n",
    "# So we need to see the sign of the 3rd coefficient in the above list of model 2 coeffs (and is negative)"
   ]
  },
  {
   "cell_type": "markdown",
   "metadata": {},
   "source": [
    "## Comparing multiple models\n",
    "\n",
    "### Quiz Question 7\n",
    "\n",
    "Which model (1, 2 or 3) has lowest RSS on TRAINING Data?"
   ]
  },
  {
   "cell_type": "markdown",
   "metadata": {},
   "source": [
    "**ANS:** Based on the rss values from training data set, it can be seen that model 3 has the lowest RSS."
   ]
  },
  {
   "cell_type": "markdown",
   "metadata": {},
   "source": [
    "Now compute the RSS on on TEST data for each of the three models."
   ]
  },
  {
   "cell_type": "markdown",
   "metadata": {},
   "source": [
    "### Quiz Question 8: \n",
    "\n",
    "Which model (1, 2 or 3) has lowest RSS on TESTING Data?"
   ]
  },
  {
   "cell_type": "code",
   "execution_count": 53,
   "metadata": {
    "collapsed": true
   },
   "outputs": [],
   "source": [
    "X_model_1_test = test_data.ix[:, model_1_features].copy()\n",
    "X_model_2_test = test_data.ix[:, model_2_features].copy()\n",
    "X_model_3_test = test_data.ix[:, model_3_features].copy()\n",
    "Y_test = test_data.price"
   ]
  },
  {
   "cell_type": "code",
   "execution_count": 54,
   "metadata": {
    "collapsed": false
   },
   "outputs": [
    {
     "name": "stdout",
     "output_type": "stream",
     "text": [
      "2.23588470558e+14\n"
     ]
    }
   ],
   "source": [
    "# RSS from the model 1\n",
    "model_1_test = example_model.fit(X_model_1_test, Y_test)\n",
    "rss_model_1_test = get_residual_sum_of_squares(model_1_test, X_model_1_test, Y_test)\n",
    "print rss_model_1_test"
   ]
  },
  {
   "cell_type": "code",
   "execution_count": 55,
   "metadata": {
    "collapsed": false
   },
   "outputs": [
    {
     "name": "stdout",
     "output_type": "stream",
     "text": [
      "2.20888287428e+14\n"
     ]
    }
   ],
   "source": [
    "# RSS from the model 2\n",
    "model_2_test = example_model.fit(X_model_2_test, Y_test)\n",
    "rss_model_2_test = get_residual_sum_of_squares(model_2_test, X_model_2_test, Y_test)\n",
    "print rss_model_2_test"
   ]
  },
  {
   "cell_type": "code",
   "execution_count": 56,
   "metadata": {
    "collapsed": false
   },
   "outputs": [
    {
     "name": "stdout",
     "output_type": "stream",
     "text": [
      "2.11457519132e+14\n"
     ]
    }
   ],
   "source": [
    "# RSS from the model 3\n",
    "model_3_test = example_model.fit(X_model_3_test, Y_test)\n",
    "rss_model_3_test = get_residual_sum_of_squares(model_3_test, X_model_3_test, Y_test)\n",
    "print rss_model_3_test"
   ]
  }
 ],
 "metadata": {
  "anaconda-cloud": {},
  "kernelspec": {
   "display_name": "Python [conda env:gl-env]",
   "language": "python",
   "name": "conda-env-gl-env-py"
  },
  "language_info": {
   "codemirror_mode": {
    "name": "ipython",
    "version": 2
   },
   "file_extension": ".py",
   "mimetype": "text/x-python",
   "name": "python",
   "nbconvert_exporter": "python",
   "pygments_lexer": "ipython2",
   "version": "2.7.12"
  }
 },
 "nbformat": 4,
 "nbformat_minor": 0
}
