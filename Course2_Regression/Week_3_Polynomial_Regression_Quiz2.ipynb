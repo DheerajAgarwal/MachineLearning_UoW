{
 "cells": [
  {
   "cell_type": "markdown",
   "metadata": {},
   "source": [
    "# Regression Week 3: Assessing Fit (polynomial regression)"
   ]
  },
  {
   "cell_type": "markdown",
   "metadata": {},
   "source": [
    "In this notebook you will compare different regression models in order to assess which model fits best. We will be using polynomial regression as a means to examine this topic. In particular you will:\n",
    "* Write a function to take an array and a degree and return an data frame where each column is the array / series to a polynomial value up to the total degree e.g. degree = 3 then column 1 is the series column 2 is the series squared and column 3 is the series cubed\n",
    "* Visualize polynomial regressions\n",
    "* Visualize the same polynomial degree on different subsets of the data\n",
    "* Use a validation set to select a polynomial degree\n",
    "* Assess the final fit using test data\n",
    "\n",
    "We will continue to use the House data from previous notebooks, however the data has been split already in `train`, `test` and `validation` sets to avoid the in compatibility between graphlab random split and other methods."
   ]
  },
  {
   "cell_type": "markdown",
   "metadata": {},
   "source": [
    "## Constants"
   ]
  },
  {
   "cell_type": "code",
   "execution_count": 1,
   "metadata": {
    "collapsed": false
   },
   "outputs": [],
   "source": [
    "# import graphlab\n",
    "import pandas as pd\n",
    "import numpy as np\n",
    "import math\n",
    "import matplotlib\n",
    "import seaborn as sns\n",
    "import bokeh\n",
    "from sklearn import linear_model as lm\n",
    "from sklearn import datasets\n",
    "% matplotlib inline"
   ]
  },
  {
   "cell_type": "markdown",
   "metadata": {},
   "source": [
    "Since the original quiz questions and solution are based of `graphlab`, it is prudent to make sure tha the data types are same when read using some other library (`pandas` in this case)."
   ]
  },
  {
   "cell_type": "markdown",
   "metadata": {},
   "source": [
    "Next we're going to write a polynomial function that takes an array and a maximal degree and returns an data frame with columns containing the array as a series to all the powers up to the maximal degree."
   ]
  },
  {
   "cell_type": "code",
   "execution_count": null,
   "metadata": {
    "collapsed": false
   },
   "outputs": [],
   "source": [
    "tmp = pd.Series([1., 2.0, 3.0])\n",
    "tmp_cubed = tmp ** 3\n",
    "print tmp\n",
    "print tmp_cubed"
   ]
  },
  {
   "cell_type": "markdown",
   "metadata": {},
   "source": [
    "## Polynomial function"
   ]
  },
  {
   "cell_type": "markdown",
   "metadata": {},
   "source": [
    "Using the hints above complete the following function to create an SFrame consisting of the powers of an SArray up to a specific degree:"
   ]
  },
  {
   "cell_type": "code",
   "execution_count": 2,
   "metadata": {
    "collapsed": true
   },
   "outputs": [],
   "source": [
    "def polynomial_dframe(feature, degree): # assume that degree >= 1\n",
    "    # creating empty list for use later\n",
    "    col_names = [\"power_1\"]\n",
    "    poly_series = feature\n",
    "    poly_df = poly_series\n",
    "    # first check if degree > 1\n",
    "    if degree > 1:\n",
    "        # then loop over the remaining degrees:\n",
    "        # range usually starts at 0 and stops at the endpoint-1. We want it to start at 2 and stop at degree\n",
    "        for power in range(2, degree+1): \n",
    "            # first we'll create the column a name:\n",
    "            name = 'power_' + str(power)\n",
    "            col_names.append(name)\n",
    "            \n",
    "            # then derive the values for the power of feature and concatenate it to the df\n",
    "            temp = poly_series ** power\n",
    "            poly_df = pd.concat([poly_df, temp], axis = 1)\n",
    "        \n",
    "        poly_df.columns = col_names\n",
    "\n",
    "    return poly_df"
   ]
  },
  {
   "cell_type": "markdown",
   "metadata": {},
   "source": [
    "To test your function consider the smaller tmp variable and what you would expect the outcome of the following call:"
   ]
  },
  {
   "cell_type": "code",
   "execution_count": null,
   "metadata": {
    "collapsed": false
   },
   "outputs": [],
   "source": [
    "print polynomial_dframe(tmp, 1)"
   ]
  },
  {
   "cell_type": "markdown",
   "metadata": {},
   "source": [
    "## Visualizing polynomial regression"
   ]
  },
  {
   "cell_type": "markdown",
   "metadata": {},
   "source": [
    "Let's visualize what a polynomial regression looks like on some real data."
   ]
  },
  {
   "cell_type": "markdown",
   "metadata": {},
   "source": [
    "### Get Data"
   ]
  },
  {
   "cell_type": "code",
   "execution_count": 3,
   "metadata": {
    "collapsed": false
   },
   "outputs": [],
   "source": [
    "sales = pd.read_csv(\"./data/kc_house_data.csv\")"
   ]
  },
  {
   "cell_type": "markdown",
   "metadata": {},
   "source": [
    "As in Week 3, we will use the `sqft_living` variable. For plotting purposes (connecting the dots), you'll need to sort by the values of `sqft_living`. For houses with identical square footage, we break the tie by their prices."
   ]
  },
  {
   "cell_type": "code",
   "execution_count": null,
   "metadata": {
    "collapsed": false
   },
   "outputs": [],
   "source": [
    "sales = sales.sort_values(['sqft_living', 'price'])"
   ]
  },
  {
   "cell_type": "markdown",
   "metadata": {},
   "source": [
    "Let's start with a degree 1 polynomial using `sqft_living` (i.e. a line) to predict `price` and plot what it looks like. "
   ]
  },
  {
   "cell_type": "code",
   "execution_count": 4,
   "metadata": {
    "collapsed": false
   },
   "outputs": [],
   "source": [
    "poly1_data = polynomial_dframe(sales['sqft_living'], 1)\n",
    "poly1_data = pd.concat([poly1_data,sales['price']], axis=1) # add price to the data since it's the target"
   ]
  },
  {
   "cell_type": "code",
   "execution_count": 5,
   "metadata": {
    "collapsed": false
   },
   "outputs": [
    {
     "data": {
      "text/plain": [
       "Index([u'sqft_living', u'price'], dtype='object')"
      ]
     },
     "execution_count": 5,
     "metadata": {},
     "output_type": "execute_result"
    }
   ],
   "source": [
    "poly1_data.columns"
   ]
  },
  {
   "cell_type": "markdown",
   "metadata": {},
   "source": [
    "NOTE: for all the models in this notebook use validation_set = None to ensure that all results are consistent across users."
   ]
  },
  {
   "cell_type": "code",
   "execution_count": 6,
   "metadata": {
    "collapsed": false
   },
   "outputs": [],
   "source": [
    "# model1 = graphlab.linear_regression.create(poly1_data, target = 'price', features = ['power_1'], validation_set = None)\n",
    "data = np.asarray(poly1_data)\n",
    "X = data[:,0].reshape(-1,1)\n",
    "y = data[:,1].reshape(-1,1)"
   ]
  },
  {
   "cell_type": "code",
   "execution_count": 7,
   "metadata": {
    "collapsed": false
   },
   "outputs": [],
   "source": [
    "regr = lm.LinearRegression()\n",
    "model1 = regr.fit(X, y)"
   ]
  },
  {
   "cell_type": "code",
   "execution_count": 8,
   "metadata": {
    "collapsed": false
   },
   "outputs": [
    {
     "data": {
      "text/plain": [
       "0.49285321790379316"
      ]
     },
     "execution_count": 8,
     "metadata": {},
     "output_type": "execute_result"
    }
   ],
   "source": [
    "#let's take a look at the weights before we plot\n",
    "model1.score(X, y)"
   ]
  },
  {
   "cell_type": "code",
   "execution_count": 9,
   "metadata": {
    "collapsed": true
   },
   "outputs": [],
   "source": [
    "import matplotlib.pyplot as plt\n",
    "%matplotlib inline"
   ]
  },
  {
   "cell_type": "code",
   "execution_count": 10,
   "metadata": {
    "collapsed": false
   },
   "outputs": [
    {
     "data": {
      "text/plain": [
       "[<matplotlib.lines.Line2D at 0xc2589e8>,\n",
       " <matplotlib.lines.Line2D at 0x6de5ba8>]"
      ]
     },
     "execution_count": 10,
     "metadata": {},
     "output_type": "execute_result"
    },
    {
     "data": {
      "image/png": "[encoded data removed]",
      "text/plain": [
       "<matplotlib.figure.Figure at 0xc023828>"
      ]
     },
     "metadata": {},
     "output_type": "display_data"
    }
   ],
   "source": [
    "plt.plot(poly1_data['sqft_living'],poly1_data['price'],'.',\n",
    "        poly1_data['sqft_living'], model1.predict(X),'-')"
   ]
  },
  {
   "cell_type": "markdown",
   "metadata": {},
   "source": [
    "Let's unpack that plt.plot() command. The first pair of array we passed are the 1st power of sqft and the actual price we then ask it to print these as dots '.'. The next pair we pass is the 1st power of sqft and the predicted values from the linear model. We ask these to be plotted as a line '-'. \n",
    "\n",
    "We can see, not surprisingly, that the predicted values all fall on a line, specifically the one with slope 280 and intercept -43579. What if we wanted to plot a second degree polynomial?"
   ]
  },
  {
   "cell_type": "code",
   "execution_count": null,
   "metadata": {
    "collapsed": false
   },
   "outputs": [],
   "source": [
    "poly2_data = polynomial_dframe(sales['sqft_living'], 2)\n",
    "# my_features = poly2_data.column_names() # get the name of the features\n",
    "poly2_data['price'] = sales['price'] # add price to the data since it's the target\n",
    "# model2 = graphlab.linear_regression.create(poly2_data, target = 'price', features = my_features, validation_set = None)"
   ]
  },
  {
   "cell_type": "code",
   "execution_count": null,
   "metadata": {
    "collapsed": false
   },
   "outputs": [],
   "source": [
    "poly2_data.columns"
   ]
  },
  {
   "cell_type": "code",
   "execution_count": null,
   "metadata": {
    "collapsed": false
   },
   "outputs": [],
   "source": [
    "X2 = poly2_data[['power_1', 'power_2']]"
   ]
  },
  {
   "cell_type": "code",
   "execution_count": null,
   "metadata": {
    "collapsed": false
   },
   "outputs": [],
   "source": [
    "model2 = regr.fit(X2, y)\n",
    "model2.score(X2,y)"
   ]
  },
  {
   "cell_type": "code",
   "execution_count": null,
   "metadata": {
    "collapsed": false
   },
   "outputs": [],
   "source": [
    "plt.plot(poly2_data['power_1'],poly2_data['price'],'.',\n",
    "        poly2_data['power_1'], model2.predict(X2),'-')"
   ]
  },
  {
   "cell_type": "markdown",
   "metadata": {},
   "source": [
    "The resulting model looks like half a parabola. Try on your own to see what the cubic looks like:"
   ]
  },
  {
   "cell_type": "code",
   "execution_count": null,
   "metadata": {
    "collapsed": true
   },
   "outputs": [],
   "source": [
    "poly3_data = polynomial_dframe(sales['sqft_living'], 3)\n",
    "poly3_data['price'] = sales['price'] # add price to the data since it's the target"
   ]
  },
  {
   "cell_type": "code",
   "execution_count": null,
   "metadata": {
    "collapsed": false
   },
   "outputs": [],
   "source": [
    "X3 = poly3_data[['power_1', 'power_2', 'power_3']]"
   ]
  },
  {
   "cell_type": "code",
   "execution_count": null,
   "metadata": {
    "collapsed": false
   },
   "outputs": [],
   "source": [
    "model3 = regr.fit(X3, y)\n",
    "model3.score(X3,y)"
   ]
  },
  {
   "cell_type": "code",
   "execution_count": null,
   "metadata": {
    "collapsed": false
   },
   "outputs": [],
   "source": [
    "plt.plot(poly2_data['power_1'],poly2_data['price'],'.',\n",
    "        poly2_data['power_1'], model2.predict(X3),'-')"
   ]
  },
  {
   "cell_type": "markdown",
   "metadata": {},
   "source": [
    "Now try a 15th degree polynomial:"
   ]
  },
  {
   "cell_type": "code",
   "execution_count": null,
   "metadata": {
    "collapsed": false
   },
   "outputs": [],
   "source": [
    "poly15_data = polynomial_dframe(sales['sqft_living'], 15)\n",
    "poly15_data['price'] = sales['price'] # add price to the data since it's the target"
   ]
  },
  {
   "cell_type": "code",
   "execution_count": null,
   "metadata": {
    "collapsed": false
   },
   "outputs": [],
   "source": [
    "poly15_data.columns"
   ]
  },
  {
   "cell_type": "code",
   "execution_count": null,
   "metadata": {
    "collapsed": false
   },
   "outputs": [],
   "source": [
    "X15 = poly15_data.iloc[:, 0:15]"
   ]
  },
  {
   "cell_type": "code",
   "execution_count": null,
   "metadata": {
    "collapsed": false
   },
   "outputs": [],
   "source": [
    "model15 = regr.fit(X15, y)\n",
    "model15.score(X15,y)"
   ]
  },
  {
   "cell_type": "code",
   "execution_count": null,
   "metadata": {
    "collapsed": false
   },
   "outputs": [],
   "source": [
    "plt.plot(poly2_data['power_1'],poly2_data['price'],'.',\n",
    "        poly2_data['power_1'], model2.predict(X15),'-')"
   ]
  },
  {
   "cell_type": "markdown",
   "metadata": {},
   "source": [
    "What do you think of the 15th degree polynomial? Do you think this is appropriate? If we were to change the data do you think you'd get pretty much the same curve? Let's take a look."
   ]
  },
  {
   "cell_type": "markdown",
   "metadata": {},
   "source": [
    "## Changing the data and re-learning"
   ]
  },
  {
   "cell_type": "markdown",
   "metadata": {},
   "source": [
    "The sales data has been split into four subsets of roughly equal size. We will estimate a 15th degree polynomial model on all four subsets of the data. Print the coefficients for all features and plot the resulting fit (as we did above). The quiz will ask you some questions about these results.\n",
    "\n",
    "Since I am using pandas for this exercise, we will use the data sets provided as part of the exercise and not split on our own. If you are using graphlab, then set the `seed = 0`."
   ]
  },
  {
   "cell_type": "code",
   "execution_count": null,
   "metadata": {
    "collapsed": true
   },
   "outputs": [],
   "source": [
    "data_set1 = pd.read_csv(\"./data/wk3_kc_house_set_1_data.csv\")\n",
    "data_set2 = pd.read_csv(\"./data/wk3_kc_house_set_2_data.csv\")\n",
    "data_set3 = pd.read_csv(\"./data/wk3_kc_house_set_3_data.csv\")\n",
    "data_set4 = pd.read_csv(\"./data/wk3_kc_house_set_4_data.csv\")"
   ]
  },
  {
   "cell_type": "markdown",
   "metadata": {},
   "source": [
    "Fit a 15th degree polynomial on set_1, set_2, set_3, and set_4 using sqft_living to predict prices. Print the coefficients and make a plot of the resulting model."
   ]
  },
  {
   "cell_type": "code",
   "execution_count": null,
   "metadata": {
    "collapsed": false
   },
   "outputs": [],
   "source": [
    "set_1 = polynomial_dframe(data_set1['sqft_living'], 15)\n",
    "set_2 = polynomial_dframe(data_set2['sqft_living'], 15)\n",
    "set_3 = polynomial_dframe(data_set3['sqft_living'], 15)\n",
    "set_4 = polynomial_dframe(data_set4['sqft_living'], 15)\n",
    "\n",
    "set_1['price'] = data_set1['price']\n",
    "set_2['price'] = data_set2['price']\n",
    "set_3['price'] = data_set3['price']\n",
    "set_4['price'] = data_set4['price']"
   ]
  },
  {
   "cell_type": "code",
   "execution_count": null,
   "metadata": {
    "collapsed": false
   },
   "outputs": [],
   "source": [
    "X_1 = set_1.iloc[:, 0:15]\n",
    "X_2 = set_2.iloc[:, 0:15]\n",
    "X_3 = set_3.iloc[:, 0:15]\n",
    "X_4 = set_4.iloc[:, 0:15]\n",
    "\n",
    "y_1 = set_1.iloc[:,15]\n",
    "y_2 = set_2.iloc[:,15]\n",
    "y_3 = set_3.iloc[:,15]\n",
    "y_4 = set_4.iloc[:,15]"
   ]
  },
  {
   "cell_type": "code",
   "execution_count": null,
   "metadata": {
    "collapsed": false
   },
   "outputs": [],
   "source": [
    "model_1 = regr.fit(X_1, y_1)\n",
    "print('Coefficients: \\n', regr.coef_)"
   ]
  },
  {
   "cell_type": "code",
   "execution_count": null,
   "metadata": {
    "collapsed": false
   },
   "outputs": [],
   "source": [
    "plt.plot(set_1['power_1'],set_1['price'],'.',\n",
    "        set_1['power_1'], model_1.predict(X_1),'-')"
   ]
  },
  {
   "cell_type": "code",
   "execution_count": null,
   "metadata": {
    "collapsed": false
   },
   "outputs": [],
   "source": [
    "model_2 = regr.fit(X_2, y_2)\n",
    "print('Coefficients: \\n', regr.coef_)"
   ]
  },
  {
   "cell_type": "code",
   "execution_count": null,
   "metadata": {
    "collapsed": false
   },
   "outputs": [],
   "source": [
    "plt.plot(set_2['power_1'],set_2['price'],'.',\n",
    "        set_2['power_1'], model_2.predict(X_2),'-')"
   ]
  },
  {
   "cell_type": "code",
   "execution_count": null,
   "metadata": {
    "collapsed": false
   },
   "outputs": [],
   "source": [
    "model_3 = regr.fit(X_3, y_3)\n",
    "print('Coefficients: \\n', regr.coef_)"
   ]
  },
  {
   "cell_type": "code",
   "execution_count": null,
   "metadata": {
    "collapsed": false
   },
   "outputs": [],
   "source": [
    "plt.plot(set_3['power_1'],set_3['price'],'.',\n",
    "        set_3['power_1'], model_3.predict(X_3),'-')"
   ]
  },
  {
   "cell_type": "code",
   "execution_count": null,
   "metadata": {
    "collapsed": false
   },
   "outputs": [],
   "source": [
    "model_4 = regr.fit(X_4, y_4)\n",
    "print('Coefficients: \\n', regr.coef_)"
   ]
  },
  {
   "cell_type": "code",
   "execution_count": null,
   "metadata": {
    "collapsed": false
   },
   "outputs": [],
   "source": [
    "plt.plot(set_4['power_1'],set_4['price'],'.',\n",
    "        set_4['power_1'], model_4.predict(X_4),'-')"
   ]
  },
  {
   "cell_type": "markdown",
   "metadata": {},
   "source": [
    "### Quiz Question 1: \n",
    "Is the sign (positive or negative) for power_15 the same in all four models?"
   ]
  },
  {
   "cell_type": "markdown",
   "metadata": {},
   "source": [
    "**ANS:** FALSE\n",
    "   \n",
    "Based on the coefficients above, `power_15` is zero in all cases. In fact after `power_7` all coefficients are zero. The obvious choice would be Yes, however that leads to wrong answer in the quiz. I am unable to explain it and may be I am doing something wrong. For now, the answer to the quiz is FALSE, the answer to the question is TRUE."
   ]
  },
  {
   "cell_type": "markdown",
   "metadata": {},
   "source": [
    "### Quiz Question 2: \n",
    "(True/False) the plotted fitted lines look the same in all four plots"
   ]
  },
  {
   "cell_type": "markdown",
   "metadata": {},
   "source": [
    "**ANS:** FALSE\n",
    "\n",
    "The plotted lines do not look the same in all four plots."
   ]
  },
  {
   "cell_type": "markdown",
   "metadata": {},
   "source": [
    "## Selecting a Polynomial Degree"
   ]
  },
  {
   "cell_type": "markdown",
   "metadata": {},
   "source": [
    "Whenever we have a \"magic\" parameter like the degree of the polynomial there is one well-known way to select these parameters: validation set. (We will explore another approach in week 4).\n",
    "\n",
    "**Using Graphlab**:  \n",
    "\n",
    "We split the sales dataset 3-way into training set, test set, and validation set as follows:\n",
    "\n",
    "* Split our sales data into 2 sets: `training_and_validation` and `testing`. Use `random_split(0.9, seed=1)`.\n",
    "* Further split our training data into two sets: `training` and `validation`. Use `random_split(0.5, seed=1)`.\n",
    "\n",
    "Again, we set `seed=1` to obtain consistent results for different users.\n",
    "\n",
    "**Using pandas**:  \n",
    "\n",
    "Read the separate training, test and validation files."
   ]
  },
  {
   "cell_type": "code",
   "execution_count": 11,
   "metadata": {
    "collapsed": true
   },
   "outputs": [],
   "source": [
    "train_data = pd.read_csv(\"./data/wk3_kc_house_train_data.csv\")\n",
    "test_data = pd.read_csv(\"./data/wk3_kc_house_test_data.csv\")\n",
    "valid_data = pd.read_csv(\"./data/wk3_kc_house_valid_data.csv\")"
   ]
  },
  {
   "cell_type": "markdown",
   "metadata": {},
   "source": [
    "Next you should write a loop that does the following:\n",
    "* For degree in [1, 2, 3, 4, 5, 6, 7, 8, 9, 10, 11, 12, 13, 14, 15] (to get this in python type range(1, 15+1))\n",
    "    * Build an dataframe of polynomial data of train_data['sqft_living'] at the current degree\n",
    "    * Add train_data['price'] to the polynomial dataframe\n",
    "    * Learn a polynomial regression model to sqft vs price with that degree on TRAIN data\n",
    "    * Compute the RSS on VALIDATION data\n",
    "* Report which degree had the lowest RSS on validation data (remember python indexes from 0)"
   ]
  },
  {
   "cell_type": "code",
   "execution_count": 12,
   "metadata": {
    "collapsed": false
   },
   "outputs": [
    {
     "data": {
      "text/html": [
       "<div>\n",
       "<table border=\"1\" class=\"dataframe\">\n",
       "  <thead>\n",
       "    <tr style=\"text-align: right;\">\n",
       "      <th></th>\n",
       "      <th>id</th>\n",
       "      <th>price</th>\n",
       "      <th>bedrooms</th>\n",
       "      <th>bathrooms</th>\n",
       "      <th>sqft_living</th>\n",
       "      <th>sqft_lot</th>\n",
       "      <th>floors</th>\n",
       "      <th>waterfront</th>\n",
       "      <th>view</th>\n",
       "      <th>condition</th>\n",
       "      <th>grade</th>\n",
       "      <th>sqft_above</th>\n",
       "      <th>sqft_basement</th>\n",
       "      <th>yr_built</th>\n",
       "      <th>yr_renovated</th>\n",
       "      <th>zipcode</th>\n",
       "      <th>lat</th>\n",
       "      <th>long</th>\n",
       "      <th>sqft_living15</th>\n",
       "      <th>sqft_lot15</th>\n",
       "    </tr>\n",
       "  </thead>\n",
       "  <tbody>\n",
       "    <tr>\n",
       "      <th>count</th>\n",
       "      <td>9.761000e+03</td>\n",
       "      <td>9.761000e+03</td>\n",
       "      <td>9761.000000</td>\n",
       "      <td>9761.000000</td>\n",
       "      <td>9761.000000</td>\n",
       "      <td>9.761000e+03</td>\n",
       "      <td>9761.000000</td>\n",
       "      <td>9761.000000</td>\n",
       "      <td>9761.000000</td>\n",
       "      <td>9761.000000</td>\n",
       "      <td>9761.00000</td>\n",
       "      <td>9761.000000</td>\n",
       "      <td>9761.000000</td>\n",
       "      <td>9761.000000</td>\n",
       "      <td>9761.000000</td>\n",
       "      <td>9761.000000</td>\n",
       "      <td>9761.000000</td>\n",
       "      <td>9761.000000</td>\n",
       "      <td>9761.000000</td>\n",
       "      <td>9761.000000</td>\n",
       "    </tr>\n",
       "    <tr>\n",
       "      <th>mean</th>\n",
       "      <td>4.605288e+09</td>\n",
       "      <td>5.427350e+05</td>\n",
       "      <td>3.375884</td>\n",
       "      <td>2.117175</td>\n",
       "      <td>2086.734146</td>\n",
       "      <td>1.521526e+04</td>\n",
       "      <td>1.486067</td>\n",
       "      <td>0.008401</td>\n",
       "      <td>0.248028</td>\n",
       "      <td>3.415531</td>\n",
       "      <td>7.66151</td>\n",
       "      <td>1793.291159</td>\n",
       "      <td>293.442987</td>\n",
       "      <td>1970.799508</td>\n",
       "      <td>86.066592</td>\n",
       "      <td>98077.790185</td>\n",
       "      <td>47.560052</td>\n",
       "      <td>-122.214322</td>\n",
       "      <td>1992.359697</td>\n",
       "      <td>12824.785165</td>\n",
       "    </tr>\n",
       "    <tr>\n",
       "      <th>std</th>\n",
       "      <td>2.876044e+09</td>\n",
       "      <td>3.795276e+05</td>\n",
       "      <td>0.960697</td>\n",
       "      <td>0.773971</td>\n",
       "      <td>927.194303</td>\n",
       "      <td>4.126673e+04</td>\n",
       "      <td>0.532317</td>\n",
       "      <td>0.091275</td>\n",
       "      <td>0.787877</td>\n",
       "      <td>0.650552</td>\n",
       "      <td>1.18268</td>\n",
       "      <td>835.763817</td>\n",
       "      <td>442.612722</td>\n",
       "      <td>29.240009</td>\n",
       "      <td>405.417369</td>\n",
       "      <td>53.203594</td>\n",
       "      <td>0.140236</td>\n",
       "      <td>0.139895</td>\n",
       "      <td>687.322247</td>\n",
       "      <td>26518.337402</td>\n",
       "    </tr>\n",
       "    <tr>\n",
       "      <th>min</th>\n",
       "      <td>1.200019e+06</td>\n",
       "      <td>8.000000e+04</td>\n",
       "      <td>0.000000</td>\n",
       "      <td>0.000000</td>\n",
       "      <td>290.000000</td>\n",
       "      <td>5.200000e+02</td>\n",
       "      <td>1.000000</td>\n",
       "      <td>0.000000</td>\n",
       "      <td>0.000000</td>\n",
       "      <td>1.000000</td>\n",
       "      <td>1.00000</td>\n",
       "      <td>290.000000</td>\n",
       "      <td>0.000000</td>\n",
       "      <td>1900.000000</td>\n",
       "      <td>0.000000</td>\n",
       "      <td>98001.000000</td>\n",
       "      <td>47.155900</td>\n",
       "      <td>-122.514000</td>\n",
       "      <td>620.000000</td>\n",
       "      <td>660.000000</td>\n",
       "    </tr>\n",
       "    <tr>\n",
       "      <th>25%</th>\n",
       "      <td>2.126049e+09</td>\n",
       "      <td>3.200000e+05</td>\n",
       "      <td>3.000000</td>\n",
       "      <td>1.750000</td>\n",
       "      <td>1420.000000</td>\n",
       "      <td>5.100000e+03</td>\n",
       "      <td>1.000000</td>\n",
       "      <td>0.000000</td>\n",
       "      <td>0.000000</td>\n",
       "      <td>3.000000</td>\n",
       "      <td>7.00000</td>\n",
       "      <td>1190.000000</td>\n",
       "      <td>0.000000</td>\n",
       "      <td>1951.000000</td>\n",
       "      <td>0.000000</td>\n",
       "      <td>98033.000000</td>\n",
       "      <td>47.467800</td>\n",
       "      <td>-122.327000</td>\n",
       "      <td>1490.000000</td>\n",
       "      <td>5160.000000</td>\n",
       "    </tr>\n",
       "    <tr>\n",
       "      <th>50%</th>\n",
       "      <td>3.905041e+09</td>\n",
       "      <td>4.500000e+05</td>\n",
       "      <td>3.000000</td>\n",
       "      <td>2.250000</td>\n",
       "      <td>1910.000000</td>\n",
       "      <td>7.642000e+03</td>\n",
       "      <td>1.500000</td>\n",
       "      <td>0.000000</td>\n",
       "      <td>0.000000</td>\n",
       "      <td>3.000000</td>\n",
       "      <td>7.00000</td>\n",
       "      <td>1570.000000</td>\n",
       "      <td>0.000000</td>\n",
       "      <td>1975.000000</td>\n",
       "      <td>0.000000</td>\n",
       "      <td>98065.000000</td>\n",
       "      <td>47.572200</td>\n",
       "      <td>-122.229000</td>\n",
       "      <td>1840.000000</td>\n",
       "      <td>7660.000000</td>\n",
       "    </tr>\n",
       "    <tr>\n",
       "      <th>75%</th>\n",
       "      <td>7.338403e+09</td>\n",
       "      <td>6.490000e+05</td>\n",
       "      <td>4.000000</td>\n",
       "      <td>2.500000</td>\n",
       "      <td>2570.000000</td>\n",
       "      <td>1.066000e+04</td>\n",
       "      <td>2.000000</td>\n",
       "      <td>0.000000</td>\n",
       "      <td>0.000000</td>\n",
       "      <td>4.000000</td>\n",
       "      <td>8.00000</td>\n",
       "      <td>2230.000000</td>\n",
       "      <td>570.000000</td>\n",
       "      <td>1996.000000</td>\n",
       "      <td>0.000000</td>\n",
       "      <td>98117.000000</td>\n",
       "      <td>47.680400</td>\n",
       "      <td>-122.126000</td>\n",
       "      <td>2370.000000</td>\n",
       "      <td>10113.000000</td>\n",
       "    </tr>\n",
       "    <tr>\n",
       "      <th>max</th>\n",
       "      <td>9.900000e+09</td>\n",
       "      <td>7.700000e+06</td>\n",
       "      <td>33.000000</td>\n",
       "      <td>8.000000</td>\n",
       "      <td>12050.000000</td>\n",
       "      <td>1.651359e+06</td>\n",
       "      <td>3.500000</td>\n",
       "      <td>1.000000</td>\n",
       "      <td>4.000000</td>\n",
       "      <td>5.000000</td>\n",
       "      <td>13.00000</td>\n",
       "      <td>8860.000000</td>\n",
       "      <td>3480.000000</td>\n",
       "      <td>2015.000000</td>\n",
       "      <td>2015.000000</td>\n",
       "      <td>98199.000000</td>\n",
       "      <td>47.777600</td>\n",
       "      <td>-121.319000</td>\n",
       "      <td>5790.000000</td>\n",
       "      <td>560617.000000</td>\n",
       "    </tr>\n",
       "  </tbody>\n",
       "</table>\n",
       "</div>"
      ],
      "text/plain": [
       "                 id         price     bedrooms    bathrooms   sqft_living  \\\n",
       "count  9.761000e+03  9.761000e+03  9761.000000  9761.000000   9761.000000   \n",
       "mean   4.605288e+09  5.427350e+05     3.375884     2.117175   2086.734146   \n",
       "std    2.876044e+09  3.795276e+05     0.960697     0.773971    927.194303   \n",
       "min    1.200019e+06  8.000000e+04     0.000000     0.000000    290.000000   \n",
       "25%    2.126049e+09  3.200000e+05     3.000000     1.750000   1420.000000   \n",
       "50%    3.905041e+09  4.500000e+05     3.000000     2.250000   1910.000000   \n",
       "75%    7.338403e+09  6.490000e+05     4.000000     2.500000   2570.000000   \n",
       "max    9.900000e+09  7.700000e+06    33.000000     8.000000  12050.000000   \n",
       "\n",
       "           sqft_lot       floors   waterfront         view    condition  \\\n",
       "count  9.761000e+03  9761.000000  9761.000000  9761.000000  9761.000000   \n",
       "mean   1.521526e+04     1.486067     0.008401     0.248028     3.415531   \n",
       "std    4.126673e+04     0.532317     0.091275     0.787877     0.650552   \n",
       "min    5.200000e+02     1.000000     0.000000     0.000000     1.000000   \n",
       "25%    5.100000e+03     1.000000     0.000000     0.000000     3.000000   \n",
       "50%    7.642000e+03     1.500000     0.000000     0.000000     3.000000   \n",
       "75%    1.066000e+04     2.000000     0.000000     0.000000     4.000000   \n",
       "max    1.651359e+06     3.500000     1.000000     4.000000     5.000000   \n",
       "\n",
       "            grade   sqft_above  sqft_basement     yr_built  yr_renovated  \\\n",
       "count  9761.00000  9761.000000    9761.000000  9761.000000   9761.000000   \n",
       "mean      7.66151  1793.291159     293.442987  1970.799508     86.066592   \n",
       "std       1.18268   835.763817     442.612722    29.240009    405.417369   \n",
       "min       1.00000   290.000000       0.000000  1900.000000      0.000000   \n",
       "25%       7.00000  1190.000000       0.000000  1951.000000      0.000000   \n",
       "50%       7.00000  1570.000000       0.000000  1975.000000      0.000000   \n",
       "75%       8.00000  2230.000000     570.000000  1996.000000      0.000000   \n",
       "max      13.00000  8860.000000    3480.000000  2015.000000   2015.000000   \n",
       "\n",
       "            zipcode          lat         long  sqft_living15     sqft_lot15  \n",
       "count   9761.000000  9761.000000  9761.000000    9761.000000    9761.000000  \n",
       "mean   98077.790185    47.560052  -122.214322    1992.359697   12824.785165  \n",
       "std       53.203594     0.140236     0.139895     687.322247   26518.337402  \n",
       "min    98001.000000    47.155900  -122.514000     620.000000     660.000000  \n",
       "25%    98033.000000    47.467800  -122.327000    1490.000000    5160.000000  \n",
       "50%    98065.000000    47.572200  -122.229000    1840.000000    7660.000000  \n",
       "75%    98117.000000    47.680400  -122.126000    2370.000000   10113.000000  \n",
       "max    98199.000000    47.777600  -121.319000    5790.000000  560617.000000  "
      ]
     },
     "execution_count": 12,
     "metadata": {},
     "output_type": "execute_result"
    }
   ],
   "source": [
    "train_data.describe()"
   ]
  },
  {
   "cell_type": "code",
   "execution_count": 13,
   "metadata": {
    "collapsed": false
   },
   "outputs": [
    {
     "name": "stdout",
     "output_type": "stream",
     "text": [
      "(9761, 21)\n"
     ]
    }
   ],
   "source": [
    "print train_data.shape"
   ]
  },
  {
   "cell_type": "code",
   "execution_count": 32,
   "metadata": {
    "collapsed": false
   },
   "outputs": [],
   "source": [
    "RSS = []\n",
    "def RSS_Calculator(train_data, valid_data):\n",
    "    for degree in range(2, 16):\n",
    "        poly_data = polynomial_dframe(train_data['sqft_living'], degree)     \n",
    "        poly_data['price'] = train_data['price']\n",
    "        X = poly_data.iloc[:, 0:degree]\n",
    "        y = poly_data.iloc[:, degree]\n",
    "        model = regr.fit(X, y)\n",
    "\n",
    "        validation_data_poly = polynomial_dframe(valid_data['sqft_living'], degree)\n",
    "        validation_data_poly['price'] = valid_data['price']\n",
    "        X_valid = validation_data_poly.iloc[:, 0:degree]\n",
    "        y_valid = validation_data_poly.iloc[:, degree]\n",
    "\n",
    "        y_pred = model.predict(X_valid)\n",
    "        residuals = y_valid - y_pred\n",
    "        rss = sum(residuals ** 2)\n",
    "        RSS.append(rss)\n",
    "\n",
    "# for degree, rss in enumerate(arr):\n",
    "    print degree, rss\n",
    "    return RSS\n",
    "\n",
    "# Note that list index starts from 0, so degree = index + 1\n",
    "# print RSS.index(min(RSS)), min(RSS)"
   ]
  },
  {
   "cell_type": "code",
   "execution_count": 33,
   "metadata": {
    "collapsed": false
   },
   "outputs": [
    {
     "name": "stdout",
     "output_type": "stream",
     "text": [
      "15 6.280803293e+14\n"
     ]
    },
    {
     "data": {
      "text/plain": [
       "[623955062706519.5,\n",
       " 625820280251530.5,\n",
       " 629987335647051.75,\n",
       " 626970042528833.75,\n",
       " 628232312884411.62,\n",
       " 628084499808581.62,\n",
       " 628084660149514.75,\n",
       " 628084481003026.87,\n",
       " 628084481003026.87,\n",
       " 628084475323399.12,\n",
       " 628080329299960.12,\n",
       " 628080329299915.37,\n",
       " 628080329299960.12,\n",
       " 628080329299915.37]"
      ]
     },
     "execution_count": 33,
     "metadata": {},
     "output_type": "execute_result"
    }
   ],
   "source": [
    "RSS_Calculator(train_data, valid_data)"
   ]
  },
  {
   "cell_type": "markdown",
   "metadata": {},
   "source": [
    "## Quiz Question 3: \n",
    "Which degree (1, 2, …, 15) had the lowest RSS on Validation data?"
   ]
  },
  {
   "cell_type": "code",
   "execution_count": null,
   "metadata": {
    "collapsed": false
   },
   "outputs": [],
   "source": []
  },
  {
   "cell_type": "markdown",
   "metadata": {},
   "source": [
    "## Quiz Question 4:\n",
    "\n",
    "Now that you have chosen the degree of your polynomial using validation data, compute the RSS of this model on TEST data. Report the RSS on your quiz.\n",
    "\n",
    "What is the RSS on TEST data for the model with the degree selected from Validation data?"
   ]
  },
  {
   "cell_type": "code",
   "execution_count": 27,
   "metadata": {
    "collapsed": true
   },
   "outputs": [],
   "source": [
    "poly_test = polynomial_dframe(test_data['sqft_living'], 6)\n",
    "poly_test['price'] = test_data['price']\n",
    "\n",
    "X_test = poly_test.iloc[:, 0:6]\n",
    "y_test = poly_test.iloc[:, 6]"
   ]
  },
  {
   "cell_type": "code",
   "execution_count": 30,
   "metadata": {
    "collapsed": false
   },
   "outputs": [
    {
     "data": {
      "text/plain": [
       "130952850914937.22"
      ]
     },
     "execution_count": 30,
     "metadata": {},
     "output_type": "execute_result"
    }
   ],
   "source": [
    "model_test = regr.fit(X_test, y_test)\n",
    "y_pred_test = model_test.predict(X_test)\n",
    "\n",
    "sum((y_pred_test - y_test) ** 2)"
   ]
  }
 ],
 "metadata": {
  "anaconda-cloud": {},
  "kernelspec": {
   "display_name": "Python [conda env:gl-env]",
   "language": "python",
   "name": "conda-env-gl-env-py"
  },
  "language_info": {
   "codemirror_mode": {
    "name": "ipython",
    "version": 2
   },
   "file_extension": ".py",
   "mimetype": "text/x-python",
   "name": "python",
   "nbconvert_exporter": "python",
   "pygments_lexer": "ipython2",
   "version": "2.7.13"
  }
 },
 "nbformat": 4,
 "nbformat_minor": 0
}
