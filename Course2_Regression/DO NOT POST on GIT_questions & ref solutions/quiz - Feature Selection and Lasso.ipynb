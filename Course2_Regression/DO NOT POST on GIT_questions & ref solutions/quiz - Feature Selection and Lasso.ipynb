{
 "cells": [
  {
   "cell_type": "markdown",
   "metadata": {},
   "source": [
    "# Question 1"
   ]
  },
  {
   "cell_type": "markdown",
   "metadata": {},
   "source": [
    "<img src=\"images/lec5_quiz01.png\">\n",
    "\n",
    "*Screenshot taken from [Coursera](https://www.coursera.org/learn/ml-regression/exam/uifj6/feature-selection-and-lasso)*\n",
    "\n",
    "<!--TEASER_END-->"
   ]
  },
  {
   "cell_type": "markdown",
   "metadata": {},
   "source": [
    "# Question 2"
   ]
  },
  {
   "cell_type": "markdown",
   "metadata": {},
   "source": [
    "<img src=\"images/lec5_quiz02.png\">\n",
    "\n",
    "*Screenshot taken from [Coursera](https://www.coursera.org/learn/ml-regression/exam/uifj6/feature-selection-and-lasso)*\n",
    "\n",
    "<!--TEASER_END-->"
   ]
  },
  {
   "cell_type": "markdown",
   "metadata": {},
   "source": [
    "** Answer **\n",
    "- $2^D$ models = $2^{20}$ = 1048576"
   ]
  },
  {
   "cell_type": "markdown",
   "metadata": {},
   "source": [
    "# Question 3"
   ]
  },
  {
   "cell_type": "markdown",
   "metadata": {},
   "source": [
    "<img src=\"images/lec5_quiz03.png\">\n",
    "\n",
    "*Screenshot taken from [Coursera](https://www.coursera.org/learn/ml-regression/exam/uifj6/feature-selection-and-lasso)*\n",
    "\n",
    "<!--TEASER_END-->"
   ]
  },
  {
   "cell_type": "markdown",
   "metadata": {},
   "source": [
    "** Answer **\n",
    "- https://www.coursera.org/learn/ml-regression/module/acwch/discussions/tJdQwaAZEeWlMBK9heOP5Q/replies/9hdf76DlEeWjcBKYJq1ZMQ\n",
    "\n",
    "Per the Greedy algorithm, Say u have 50 features:\n",
    "\n",
    "Step 1: Evaluate 50 possible models and pick one feature out of possible 50\n",
    "\n",
    "Step 2: Evaluate 49 possible models and pick one feature out of 49 possible\n",
    "\n",
    "Step 3: Evaluate 48 possible models and pick one feature out of 48 possible\n",
    "\n",
    ".......\n",
    "\n",
    "Step n: Build the model\n",
    "\n",
    "For each of the above steps 1 to n: the no. of possible models to evaluate decreases by 1\n",
    "\n",
    "So, 20 features = 20 + 19 + 18 + ... + 1 = 210"
   ]
  },
  {
   "cell_type": "markdown",
   "metadata": {},
   "source": [
    "# Question 4"
   ]
  },
  {
   "cell_type": "markdown",
   "metadata": {},
   "source": [
    "<img src=\"images/lec5_quiz0401.png\">\n",
    "<img src=\"images/lec5_quiz0402.png\">\n",
    "<img src=\"images/lec5_quiz0403.png\">\n",
    "\n",
    "*Screenshot taken from [Coursera](https://www.coursera.org/learn/ml-regression/exam/uifj6/feature-selection-and-lasso)*\n",
    "\n",
    "<!--TEASER_END-->"
   ]
  },
  {
   "cell_type": "markdown",
   "metadata": {},
   "source": [
    "**Discussion**\n",
    "- https://www.coursera.org/learn/ml-regression/module/acwch/discussions/AUtD0Kg5EeWfHwqjLjBT9w\n",
    "\n",
    "It is helpful to know that indeed, as the lambda is increased, some feature weights that went down to zero at some point may (temporarily) increase to non-zero values. My theory for that is that feature interactions can cause this behavior.\n",
    "\n",
    "It is confusing indeed that the lecture video shows neatly all going to zero only once, maybe that was mean as an over-simplification.\n",
    "\n",
    "As lambda goes to infinity, of course all weights will eventually be zero."
   ]
  },
  {
   "cell_type": "markdown",
   "metadata": {},
   "source": [
    "# Question 5"
   ]
  },
  {
   "cell_type": "markdown",
   "metadata": {},
   "source": [
    "<img src=\"images/lec5_quiz05.png\">\n",
    "\n",
    "*Screenshot taken from [Coursera](https://www.coursera.org/learn/ml-regression/exam/uifj6/feature-selection-and-lasso)*\n",
    "\n",
    "<!--TEASER_END-->"
   ]
  },
  {
   "cell_type": "markdown",
   "metadata": {},
   "source": [
    "# Question 6"
   ]
  },
  {
   "cell_type": "markdown",
   "metadata": {},
   "source": [
    "<img src=\"images/lec5_quiz06.png\">\n",
    "\n",
    "*Screenshot taken from [Coursera](https://www.coursera.org/learn/ml-regression/exam/uifj6/feature-selection-and-lasso)*\n",
    "\n",
    "<!--TEASER_END-->"
   ]
  },
  {
   "cell_type": "markdown",
   "metadata": {},
   "source": [
    "# Question 7"
   ]
  },
  {
   "cell_type": "markdown",
   "metadata": {},
   "source": [
    "<img src=\"images/lec5_quiz07.png\">\n",
    "\n",
    "*Screenshot taken from [Coursera](https://www.coursera.org/learn/ml-regression/exam/uifj6/feature-selection-and-lasso)*\n",
    "\n",
    "<!--TEASER_END-->"
   ]
  },
  {
   "cell_type": "markdown",
   "metadata": {},
   "source": [
    "https://www.coursera.org/learn/ml-regression/module/acwch/discussions/AUtD0Kg5EeWfHwqjLjBT9w\n",
    "    \n",
    "For coordinate descent for ridge regression - I was also confused, thought I missed some part of some video. Eventually I calculated it myself, using the formulas from week 4 for partial derivatives for Ridge object relative to w_j and succeeded on my second attempt."
   ]
  }
 ],
 "metadata": {
  "kernelspec": {
   "display_name": "Python 2",
   "language": "python",
   "name": "python2"
  },
  "language_info": {
   "codemirror_mode": {
    "name": "ipython",
    "version": 2
   },
   "file_extension": ".py",
   "mimetype": "text/x-python",
   "name": "python",
   "nbconvert_exporter": "python",
   "pygments_lexer": "ipython2",
   "version": "2.7.10"
  }
 },
 "nbformat": 4,
 "nbformat_minor": 0
}
