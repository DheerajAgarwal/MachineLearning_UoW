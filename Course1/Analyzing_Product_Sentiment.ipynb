{
 "cells": [
  {
   "cell_type": "markdown",
   "metadata": {},
   "source": [
    "# Sentiment Analysis & Prediction from Amazon Product Reviews\n",
    "\n",
    "## Constants"
   ]
  },
  {
   "cell_type": "code",
   "execution_count": 1,
   "metadata": {
    "collapsed": false
   },
   "outputs": [],
   "source": [
    "import pandas as pd\n",
    "import bokeh\n",
    "import matplotlib.pyplot as plt\n",
    "import seaborn as sns\n",
    "import random\n",
    "import numpy as np\n",
    "import string as string\n",
    "import re\n",
    "\n",
    "from sklearn import model_selection\n",
    "from sklearn.feature_extraction.text import CountVectorizer\n",
    "from sklearn.feature_extraction import DictVectorizer\n",
    "from sklearn.linear_model import LogisticRegression\n",
    "from sklearn.metrics import classification_report\n",
    "\n",
    "%matplotlib inline"
   ]
  },
  {
   "cell_type": "markdown",
   "metadata": {},
   "source": [
    "## Get Data\n",
    "\n",
    "Loading reviews for a set of baby products. "
   ]
  },
  {
   "cell_type": "code",
   "execution_count": 2,
   "metadata": {
    "collapsed": false
   },
   "outputs": [],
   "source": [
    "products = pd.read_csv(\"data/amazon_baby.csv\")"
   ]
  },
  {
   "cell_type": "markdown",
   "metadata": {},
   "source": [
    "Data includes the product name, the review text and the rating of the review. "
   ]
  },
  {
   "cell_type": "code",
   "execution_count": 3,
   "metadata": {
    "collapsed": false
   },
   "outputs": [
    {
     "name": "stdout",
     "output_type": "stream",
     "text": [
      "(183531, 3)\n"
     ]
    },
    {
     "data": {
      "text/html": [
       "<div>\n",
       "<table border=\"1\" class=\"dataframe\">\n",
       "  <thead>\n",
       "    <tr style=\"text-align: right;\">\n",
       "      <th></th>\n",
       "      <th>name</th>\n",
       "      <th>review</th>\n",
       "      <th>rating</th>\n",
       "    </tr>\n",
       "  </thead>\n",
       "  <tbody>\n",
       "    <tr>\n",
       "      <th>0</th>\n",
       "      <td>Planetwise Flannel Wipes</td>\n",
       "      <td>These flannel wipes are OK, but in my opinion ...</td>\n",
       "      <td>3</td>\n",
       "    </tr>\n",
       "    <tr>\n",
       "      <th>1</th>\n",
       "      <td>Planetwise Wipe Pouch</td>\n",
       "      <td>it came early and was not disappointed. i love...</td>\n",
       "      <td>5</td>\n",
       "    </tr>\n",
       "    <tr>\n",
       "      <th>2</th>\n",
       "      <td>Annas Dream Full Quilt with 2 Shams</td>\n",
       "      <td>Very soft and comfortable and warmer than it l...</td>\n",
       "      <td>5</td>\n",
       "    </tr>\n",
       "    <tr>\n",
       "      <th>3</th>\n",
       "      <td>Stop Pacifier Sucking without tears with Thumb...</td>\n",
       "      <td>This is a product well worth the purchase.  I ...</td>\n",
       "      <td>5</td>\n",
       "    </tr>\n",
       "    <tr>\n",
       "      <th>4</th>\n",
       "      <td>Stop Pacifier Sucking without tears with Thumb...</td>\n",
       "      <td>All of my kids have cried non-stop when I trie...</td>\n",
       "      <td>5</td>\n",
       "    </tr>\n",
       "    <tr>\n",
       "      <th>5</th>\n",
       "      <td>Stop Pacifier Sucking without tears with Thumb...</td>\n",
       "      <td>When the Binky Fairy came to our house, we did...</td>\n",
       "      <td>5</td>\n",
       "    </tr>\n",
       "    <tr>\n",
       "      <th>6</th>\n",
       "      <td>A Tale of Baby\\'s Days with Peter Rabbit</td>\n",
       "      <td>Lovely book, it\\'s bound tightly so you may no...</td>\n",
       "      <td>4</td>\n",
       "    </tr>\n",
       "    <tr>\n",
       "      <th>7</th>\n",
       "      <td>Baby Tracker&amp;reg; - Daily Childcare Journal, S...</td>\n",
       "      <td>Perfect for new parents. We were able to keep ...</td>\n",
       "      <td>5</td>\n",
       "    </tr>\n",
       "    <tr>\n",
       "      <th>8</th>\n",
       "      <td>Baby Tracker&amp;reg; - Daily Childcare Journal, S...</td>\n",
       "      <td>A friend of mine pinned this product on Pinter...</td>\n",
       "      <td>5</td>\n",
       "    </tr>\n",
       "    <tr>\n",
       "      <th>9</th>\n",
       "      <td>Baby Tracker&amp;reg; - Daily Childcare Journal, S...</td>\n",
       "      <td>This has been an easy way for my nanny to reco...</td>\n",
       "      <td>4</td>\n",
       "    </tr>\n",
       "    <tr>\n",
       "      <th>10</th>\n",
       "      <td>Baby Tracker&amp;reg; - Daily Childcare Journal, S...</td>\n",
       "      <td>I love this journal and our nanny uses it ever...</td>\n",
       "      <td>4</td>\n",
       "    </tr>\n",
       "    <tr>\n",
       "      <th>11</th>\n",
       "      <td>Baby Tracker&amp;reg; - Daily Childcare Journal, S...</td>\n",
       "      <td>This book is perfect!  I\\'m a first time new m...</td>\n",
       "      <td>5</td>\n",
       "    </tr>\n",
       "    <tr>\n",
       "      <th>12</th>\n",
       "      <td>Baby Tracker&amp;reg; - Daily Childcare Journal, S...</td>\n",
       "      <td>I originally just gave the nanny a pad of pape...</td>\n",
       "      <td>4</td>\n",
       "    </tr>\n",
       "    <tr>\n",
       "      <th>13</th>\n",
       "      <td>Baby Tracker&amp;reg; - Daily Childcare Journal, S...</td>\n",
       "      <td>I thought keeping a simple handwritten journal...</td>\n",
       "      <td>3</td>\n",
       "    </tr>\n",
       "    <tr>\n",
       "      <th>14</th>\n",
       "      <td>Nature\\'s Lullabies First Year Sticker Calendar</td>\n",
       "      <td>Space for monthly photos, info and a lot of us...</td>\n",
       "      <td>5</td>\n",
       "    </tr>\n",
       "  </tbody>\n",
       "</table>\n",
       "</div>"
      ],
      "text/plain": [
       "                                                 name  \\\n",
       "0                            Planetwise Flannel Wipes   \n",
       "1                               Planetwise Wipe Pouch   \n",
       "2                 Annas Dream Full Quilt with 2 Shams   \n",
       "3   Stop Pacifier Sucking without tears with Thumb...   \n",
       "4   Stop Pacifier Sucking without tears with Thumb...   \n",
       "5   Stop Pacifier Sucking without tears with Thumb...   \n",
       "6            A Tale of Baby\\'s Days with Peter Rabbit   \n",
       "7   Baby Tracker&reg; - Daily Childcare Journal, S...   \n",
       "8   Baby Tracker&reg; - Daily Childcare Journal, S...   \n",
       "9   Baby Tracker&reg; - Daily Childcare Journal, S...   \n",
       "10  Baby Tracker&reg; - Daily Childcare Journal, S...   \n",
       "11  Baby Tracker&reg; - Daily Childcare Journal, S...   \n",
       "12  Baby Tracker&reg; - Daily Childcare Journal, S...   \n",
       "13  Baby Tracker&reg; - Daily Childcare Journal, S...   \n",
       "14    Nature\\'s Lullabies First Year Sticker Calendar   \n",
       "\n",
       "                                               review  rating  \n",
       "0   These flannel wipes are OK, but in my opinion ...       3  \n",
       "1   it came early and was not disappointed. i love...       5  \n",
       "2   Very soft and comfortable and warmer than it l...       5  \n",
       "3   This is a product well worth the purchase.  I ...       5  \n",
       "4   All of my kids have cried non-stop when I trie...       5  \n",
       "5   When the Binky Fairy came to our house, we did...       5  \n",
       "6   Lovely book, it\\'s bound tightly so you may no...       4  \n",
       "7   Perfect for new parents. We were able to keep ...       5  \n",
       "8   A friend of mine pinned this product on Pinter...       5  \n",
       "9   This has been an easy way for my nanny to reco...       4  \n",
       "10  I love this journal and our nanny uses it ever...       4  \n",
       "11  This book is perfect!  I\\'m a first time new m...       5  \n",
       "12  I originally just gave the nanny a pad of pape...       4  \n",
       "13  I thought keeping a simple handwritten journal...       3  \n",
       "14  Space for monthly photos, info and a lot of us...       5  "
      ]
     },
     "execution_count": 3,
     "metadata": {},
     "output_type": "execute_result"
    }
   ],
   "source": [
    "print(products.shape)\n",
    "products.head(15)"
   ]
  },
  {
   "cell_type": "markdown",
   "metadata": {},
   "source": [
    "### Basic exploration"
   ]
  },
  {
   "cell_type": "markdown",
   "metadata": {},
   "source": [
    "##### Data types and Column names"
   ]
  },
  {
   "cell_type": "code",
   "execution_count": 4,
   "metadata": {
    "collapsed": false
   },
   "outputs": [
    {
     "data": {
      "text/plain": [
       "name      object\n",
       "review    object\n",
       "rating     int64\n",
       "dtype: object"
      ]
     },
     "execution_count": 4,
     "metadata": {},
     "output_type": "execute_result"
    }
   ],
   "source": [
    "products.dtypes"
   ]
  },
  {
   "cell_type": "markdown",
   "metadata": {},
   "source": [
    "##### Total unique products"
   ]
  },
  {
   "cell_type": "code",
   "execution_count": 5,
   "metadata": {
    "collapsed": false
   },
   "outputs": [
    {
     "data": {
      "text/plain": [
       "32418"
      ]
     },
     "execution_count": 5,
     "metadata": {},
     "output_type": "execute_result"
    }
   ],
   "source": [
    "len(products.name.unique())"
   ]
  },
  {
   "cell_type": "markdown",
   "metadata": {},
   "source": [
    "##### Frequency count for each product"
   ]
  },
  {
   "cell_type": "code",
   "execution_count": 6,
   "metadata": {
    "collapsed": false
   },
   "outputs": [
    {
     "data": {
      "text/plain": [
       "Vulli Sophie the Giraffe Teether                                            785\n",
       "Simple Wishes Hands-Free Breastpump Bra, Pink, XS-L                         562\n",
       "Infant Optics DXR-5 2.4 GHz Digital Video Baby Monitor with Night Vision    561\n",
       "Baby Einstein Take Along Tunes                                              547\n",
       "Cloud b Twilight Constellation Night Light, Turtle                          520\n",
       "Fisher-Price Booster Seat, Blue/Green/Gray                                  489\n",
       "Fisher-Price Rainforest Jumperoo                                            450\n",
       "Graco Nautilus 3-in-1 Car Seat, Matrix                                      419\n",
       "Leachco Snoogle Total Body Pillow                                           388\n",
       "Name: name, dtype: int64"
      ]
     },
     "execution_count": 6,
     "metadata": {},
     "output_type": "execute_result"
    }
   ],
   "source": [
    "product_count = products.name.value_counts()\n",
    "product_count[0:9]"
   ]
  },
  {
   "cell_type": "markdown",
   "metadata": {},
   "source": [
    "##### Plotting the top 15 products based on number of reviews"
   ]
  },
  {
   "cell_type": "code",
   "execution_count": 7,
   "metadata": {
    "collapsed": false
   },
   "outputs": [
    {
     "data": {
      "text/plain": [
       "(array([ 0,  1,  2,  3,  4,  5,  6,  7,  8,  9, 10, 11, 12, 13]),\n",
       " <a list of 14 Text xticklabel objects>)"
      ]
     },
     "execution_count": 7,
     "metadata": {},
     "output_type": "execute_result"
    },
    {
     "data": {
      "image/png": "[encoded data removed]",
      "text/plain": [
       "<matplotlib.figure.Figure at 0x2b6493a8518>"
      ]
     },
     "metadata": {},
     "output_type": "display_data"
    }
   ],
   "source": [
    "plt.figure(figsize=(9,6))\n",
    "sns.barplot(x=product_count[0:14].index, y=product_count[0:14])\n",
    "plt.title('Baby Product Distribution')\n",
    "plt.xlabel('Products')\n",
    "plt.ylabel('Frequency')\n",
    "plt.xticks(rotation=90)"
   ]
  },
  {
   "cell_type": "markdown",
   "metadata": {},
   "source": [
    "##### Examining the ratings distibution for top 15 products"
   ]
  },
  {
   "cell_type": "code",
   "execution_count": 8,
   "metadata": {
    "collapsed": false
   },
   "outputs": [
    {
     "data": {
      "text/plain": [
       "<matplotlib.text.Text at 0x2b6423bfb70>"
      ]
     },
     "execution_count": 8,
     "metadata": {},
     "output_type": "execute_result"
    },
    {
     "data": {
      "image/png": "[encoded data removed]",
      "text/plain": [
       "<matplotlib.figure.Figure at 0x2b6423415f8>"
      ]
     },
     "metadata": {},
     "output_type": "display_data"
    }
   ],
   "source": [
    "rating_count = products.rating.value_counts()\n",
    "plt.figure(figsize=(9,6))\n",
    "sns.barplot(x=rating_count[0:14].index, y=rating_count[0:14])\n",
    "plt.title('Distribution of User Reviews')\n",
    "plt.xlabel('Star Rating')\n",
    "plt.ylabel('Frequency')"
   ]
  },
  {
   "cell_type": "markdown",
   "metadata": {},
   "source": [
    "##### Examining the ratings for most-reviewed product:  'Vulli Sophie the Giraffe Teether'\n",
    "\n",
    "Product details as part of the lecture, hence no code for verification."
   ]
  },
  {
   "cell_type": "code",
   "execution_count": 9,
   "metadata": {
    "collapsed": true
   },
   "outputs": [],
   "source": [
    "giraffe_reviews = products[products['name'] == 'Vulli Sophie the Giraffe Teether']"
   ]
  },
  {
   "cell_type": "code",
   "execution_count": 10,
   "metadata": {
    "collapsed": false
   },
   "outputs": [
    {
     "data": {
      "text/plain": [
       "count    785.000000\n",
       "mean       4.294268\n",
       "std        1.227358\n",
       "min        1.000000\n",
       "25%        4.000000\n",
       "50%        5.000000\n",
       "75%        5.000000\n",
       "max        5.000000\n",
       "Name: rating, dtype: float64"
      ]
     },
     "execution_count": 10,
     "metadata": {},
     "output_type": "execute_result"
    }
   ],
   "source": [
    "giraffe_reviews['rating'].describe()"
   ]
  },
  {
   "cell_type": "code",
   "execution_count": 11,
   "metadata": {
    "collapsed": false
   },
   "outputs": [
    {
     "data": {
      "text/plain": [
       "<matplotlib.text.Text at 0x2b6423ab198>"
      ]
     },
     "execution_count": 11,
     "metadata": {},
     "output_type": "execute_result"
    },
    {
     "data": {
      "image/png": "[encoded data removed]",
      "text/plain": [
       "<matplotlib.figure.Figure at 0x2b6423d4198>"
      ]
     },
     "metadata": {},
     "output_type": "display_data"
    }
   ],
   "source": [
    "rating_count = giraffe_reviews.rating.value_counts()\n",
    "plt.figure(figsize=(9,6))\n",
    "sns.barplot(x=rating_count.index, y=rating_count)\n",
    "plt.title('Distribution of User Reviews')\n",
    "plt.xlabel('Star Rating')\n",
    "plt.ylabel('Frequency')"
   ]
  },
  {
   "cell_type": "markdown",
   "metadata": {},
   "source": [
    "## Data Transformations"
   ]
  },
  {
   "cell_type": "code",
   "execution_count": 12,
   "metadata": {
    "collapsed": false
   },
   "outputs": [],
   "source": [
    "# Create a dictionary using a comprehension - this maps every character from\n",
    "# string.punctuation to None. Initialize a translation object from it.\n",
    "translator = str.maketrans({key: None for key in string.punctuation})"
   ]
  },
  {
   "cell_type": "code",
   "execution_count": 13,
   "metadata": {
    "collapsed": false
   },
   "outputs": [],
   "source": [
    "def string_to_dict(word_string):\n",
    "    word_string = str(word_string) # in case the string contains numbers which leads to issues post split\n",
    "#     word_string = word_string.translate(translator)\n",
    "    word_string = word_string.lower()\n",
    "    word_string = re.sub('['+string.punctuation+']', '', word_string)\n",
    "    word_string = re.sub(r'\\d+', '', word_string)\n",
    "    word_string = word_string.rstrip()\n",
    "    wordlist = word_string.split()\n",
    "    wordfreq = []\n",
    "    for w in wordlist:\n",
    "        wordfreq.append(wordlist.count(w))\n",
    "    \n",
    "    word_dict = dict(zip(wordlist, wordfreq))\n",
    "    return(word_dict)"
   ]
  },
  {
   "cell_type": "code",
   "execution_count": 14,
   "metadata": {
    "collapsed": false
   },
   "outputs": [
    {
     "name": "stdout",
     "output_type": "stream",
     "text": [
      "The below operations are likely to take some time, please be patient\n",
      "All Done!\n"
     ]
    }
   ],
   "source": [
    "print(\"The below operations are likely to take some time, please be patient\")\n",
    "products[\"word_count\"] = products[\"review\"]\n",
    "products[\"word_count\"] = products[\"word_count\"].apply(string_to_dict)\n",
    "\n",
    "print(\"All Done!\")"
   ]
  },
  {
   "cell_type": "code",
   "execution_count": 15,
   "metadata": {
    "collapsed": false
   },
   "outputs": [
    {
     "data": {
      "text/html": [
       "<div>\n",
       "<table border=\"1\" class=\"dataframe\">\n",
       "  <thead>\n",
       "    <tr style=\"text-align: right;\">\n",
       "      <th></th>\n",
       "      <th>name</th>\n",
       "      <th>review</th>\n",
       "      <th>rating</th>\n",
       "      <th>word_count</th>\n",
       "    </tr>\n",
       "  </thead>\n",
       "  <tbody>\n",
       "    <tr>\n",
       "      <th>0</th>\n",
       "      <td>Planetwise Flannel Wipes</td>\n",
       "      <td>These flannel wipes are OK, but in my opinion ...</td>\n",
       "      <td>3</td>\n",
       "      <td>{'starting': 1, 'to': 2, 'longer': 1, 'about':...</td>\n",
       "    </tr>\n",
       "    <tr>\n",
       "      <th>1</th>\n",
       "      <td>Planetwise Wipe Pouch</td>\n",
       "      <td>it came early and was not disappointed. i love...</td>\n",
       "      <td>5</td>\n",
       "      <td>{'recommend': 1, 'keps': 1, 'early': 1, 'bags'...</td>\n",
       "    </tr>\n",
       "    <tr>\n",
       "      <th>2</th>\n",
       "      <td>Annas Dream Full Quilt with 2 Shams</td>\n",
       "      <td>Very soft and comfortable and warmer than it l...</td>\n",
       "      <td>5</td>\n",
       "      <td>{'bed': 1, 'for': 1, 'recommend': 1, 'full': 1...</td>\n",
       "    </tr>\n",
       "    <tr>\n",
       "      <th>3</th>\n",
       "      <td>Stop Pacifier Sucking without tears with Thumb...</td>\n",
       "      <td>This is a product well worth the purchase.  I ...</td>\n",
       "      <td>5</td>\n",
       "      <td>{'else': 1, 'found': 1, 'about': 1, 'losing': ...</td>\n",
       "    </tr>\n",
       "    <tr>\n",
       "      <th>4</th>\n",
       "      <td>Stop Pacifier Sucking without tears with Thumb...</td>\n",
       "      <td>All of my kids have cried non-stop when I trie...</td>\n",
       "      <td>5</td>\n",
       "      <td>{'found': 1, 'save': 1, 'to': 5, 'book': 2, 'h...</td>\n",
       "    </tr>\n",
       "  </tbody>\n",
       "</table>\n",
       "</div>"
      ],
      "text/plain": [
       "                                                name  \\\n",
       "0                           Planetwise Flannel Wipes   \n",
       "1                              Planetwise Wipe Pouch   \n",
       "2                Annas Dream Full Quilt with 2 Shams   \n",
       "3  Stop Pacifier Sucking without tears with Thumb...   \n",
       "4  Stop Pacifier Sucking without tears with Thumb...   \n",
       "\n",
       "                                              review  rating  \\\n",
       "0  These flannel wipes are OK, but in my opinion ...       3   \n",
       "1  it came early and was not disappointed. i love...       5   \n",
       "2  Very soft and comfortable and warmer than it l...       5   \n",
       "3  This is a product well worth the purchase.  I ...       5   \n",
       "4  All of my kids have cried non-stop when I trie...       5   \n",
       "\n",
       "                                          word_count  \n",
       "0  {'starting': 1, 'to': 2, 'longer': 1, 'about':...  \n",
       "1  {'recommend': 1, 'keps': 1, 'early': 1, 'bags'...  \n",
       "2  {'bed': 1, 'for': 1, 'recommend': 1, 'full': 1...  \n",
       "3  {'else': 1, 'found': 1, 'about': 1, 'losing': ...  \n",
       "4  {'found': 1, 'save': 1, 'to': 5, 'book': 2, 'h...  "
      ]
     },
     "execution_count": 15,
     "metadata": {},
     "output_type": "execute_result"
    }
   ],
   "source": [
    "products.head()"
   ]
  },
  {
   "cell_type": "markdown",
   "metadata": {},
   "source": [
    "## Build a sentiment classifier"
   ]
  },
  {
   "cell_type": "markdown",
   "metadata": {},
   "source": [
    "##### Defining Sentiment\n",
    "\n",
    "We will ignore all reviews with rating = 3 which in this case is considered neutral.  Reviews with a rating of 4 or higher will be considered positive or `True`, while the ones with rating of 2 or lower will have a negative sentiment (or `False`)   "
   ]
  },
  {
   "cell_type": "code",
   "execution_count": 16,
   "metadata": {
    "collapsed": false
   },
   "outputs": [],
   "source": [
    "#ignore all 3* reviews\n",
    "products_non_neutral = products[products['rating'] != 3].copy() # copy because dataframe is mutable\n",
    "idx_length = products_non_neutral.rating.size\n",
    "products_non_neutral.index = range(idx_length)"
   ]
  },
  {
   "cell_type": "code",
   "execution_count": 17,
   "metadata": {
    "collapsed": false
   },
   "outputs": [
    {
     "data": {
      "text/plain": [
       "(166752, 5)"
      ]
     },
     "execution_count": 17,
     "metadata": {},
     "output_type": "execute_result"
    }
   ],
   "source": [
    "#positive sentiment = 4* or 5* reviews\n",
    "products_non_neutral['sentiment'] = products_non_neutral['rating'] >=4\n",
    "products_non_neutral.shape"
   ]
  },
  {
   "cell_type": "code",
   "execution_count": 18,
   "metadata": {
    "collapsed": false
   },
   "outputs": [
    {
     "data": {
      "text/html": [
       "<div>\n",
       "<table border=\"1\" class=\"dataframe\">\n",
       "  <thead>\n",
       "    <tr style=\"text-align: right;\">\n",
       "      <th></th>\n",
       "      <th>name</th>\n",
       "      <th>review</th>\n",
       "      <th>rating</th>\n",
       "      <th>word_count</th>\n",
       "      <th>sentiment</th>\n",
       "    </tr>\n",
       "  </thead>\n",
       "  <tbody>\n",
       "    <tr>\n",
       "      <th>0</th>\n",
       "      <td>Planetwise Wipe Pouch</td>\n",
       "      <td>it came early and was not disappointed. i love...</td>\n",
       "      <td>5</td>\n",
       "      <td>{'recommend': 1, 'keps': 1, 'early': 1, 'bags'...</td>\n",
       "      <td>True</td>\n",
       "    </tr>\n",
       "    <tr>\n",
       "      <th>1</th>\n",
       "      <td>Annas Dream Full Quilt with 2 Shams</td>\n",
       "      <td>Very soft and comfortable and warmer than it l...</td>\n",
       "      <td>5</td>\n",
       "      <td>{'bed': 1, 'for': 1, 'recommend': 1, 'full': 1...</td>\n",
       "      <td>True</td>\n",
       "    </tr>\n",
       "    <tr>\n",
       "      <th>2</th>\n",
       "      <td>Stop Pacifier Sucking without tears with Thumb...</td>\n",
       "      <td>This is a product well worth the purchase.  I ...</td>\n",
       "      <td>5</td>\n",
       "      <td>{'else': 1, 'found': 1, 'about': 1, 'losing': ...</td>\n",
       "      <td>True</td>\n",
       "    </tr>\n",
       "    <tr>\n",
       "      <th>3</th>\n",
       "      <td>Stop Pacifier Sucking without tears with Thumb...</td>\n",
       "      <td>All of my kids have cried non-stop when I trie...</td>\n",
       "      <td>5</td>\n",
       "      <td>{'found': 1, 'save': 1, 'to': 5, 'book': 2, 'h...</td>\n",
       "      <td>True</td>\n",
       "    </tr>\n",
       "    <tr>\n",
       "      <th>4</th>\n",
       "      <td>Stop Pacifier Sucking without tears with Thumb...</td>\n",
       "      <td>When the Binky Fairy came to our house, we did...</td>\n",
       "      <td>5</td>\n",
       "      <td>{'stop': 1, 'made': 1, 'sucking': 1, 'our': 2,...</td>\n",
       "      <td>True</td>\n",
       "    </tr>\n",
       "  </tbody>\n",
       "</table>\n",
       "</div>"
      ],
      "text/plain": [
       "                                                name  \\\n",
       "0                              Planetwise Wipe Pouch   \n",
       "1                Annas Dream Full Quilt with 2 Shams   \n",
       "2  Stop Pacifier Sucking without tears with Thumb...   \n",
       "3  Stop Pacifier Sucking without tears with Thumb...   \n",
       "4  Stop Pacifier Sucking without tears with Thumb...   \n",
       "\n",
       "                                              review  rating  \\\n",
       "0  it came early and was not disappointed. i love...       5   \n",
       "1  Very soft and comfortable and warmer than it l...       5   \n",
       "2  This is a product well worth the purchase.  I ...       5   \n",
       "3  All of my kids have cried non-stop when I trie...       5   \n",
       "4  When the Binky Fairy came to our house, we did...       5   \n",
       "\n",
       "                                          word_count sentiment  \n",
       "0  {'recommend': 1, 'keps': 1, 'early': 1, 'bags'...      True  \n",
       "1  {'bed': 1, 'for': 1, 'recommend': 1, 'full': 1...      True  \n",
       "2  {'else': 1, 'found': 1, 'about': 1, 'losing': ...      True  \n",
       "3  {'found': 1, 'save': 1, 'to': 5, 'book': 2, 'h...      True  \n",
       "4  {'stop': 1, 'made': 1, 'sucking': 1, 'our': 2,...      True  "
      ]
     },
     "execution_count": 18,
     "metadata": {},
     "output_type": "execute_result"
    }
   ],
   "source": [
    "products_non_neutral.head()"
   ]
  },
  {
   "cell_type": "markdown",
   "metadata": {
    "collapsed": true
   },
   "source": [
    "# Quiz\n",
    "\n",
    "### Transformations for Quiz\n",
    "\n",
    "#### Setting up the selected words and creating features"
   ]
  },
  {
   "cell_type": "code",
   "execution_count": 19,
   "metadata": {
    "collapsed": true
   },
   "outputs": [],
   "source": [
    "selected_words = ['awesome', 'great', 'fantastic', 'amazing', 'love', 'horrible', 'bad', 'terrible', 'awful', 'wow', 'hate']"
   ]
  },
  {
   "cell_type": "code",
   "execution_count": 20,
   "metadata": {
    "collapsed": false
   },
   "outputs": [],
   "source": [
    "def filtered_word_count(series_of_dicts, list_of_keys):\n",
    "    \"\"\"\n",
    "    series_of_dicts must be a panda series where each record is a dictionary\n",
    "    list_of_keys should be the list of keys that are needed to be retained\n",
    "    \n",
    "    both parameters are mandatory\n",
    "    \"\"\"\n",
    "    idx = series_of_dicts.index\n",
    "    iter = series_of_dicts.size\n",
    "    selected_words_count = []\n",
    "    for i in range(iter):\n",
    "        old_dict = series_of_dicts[i]\n",
    "        new_dict = {k: old_dict[k] for k in set(selected_words) & set(old_dict.keys())}\n",
    "        selected_words_count.append(new_dict)\n",
    "    selected_words_count = pd.Series(selected_words_count)\n",
    "    return (selected_words_count)"
   ]
  },
  {
   "cell_type": "code",
   "execution_count": 21,
   "metadata": {
    "collapsed": false
   },
   "outputs": [],
   "source": [
    "selected_words_count = filtered_word_count(products_non_neutral.word_count, list_of_keys=selected_words)"
   ]
  },
  {
   "cell_type": "code",
   "execution_count": 22,
   "metadata": {
    "collapsed": false
   },
   "outputs": [],
   "source": [
    "products_non_neutral[\"selected_words_count\"] = selected_words_count"
   ]
  },
  {
   "cell_type": "code",
   "execution_count": 23,
   "metadata": {
    "collapsed": false
   },
   "outputs": [
    {
     "data": {
      "text/html": [
       "<div>\n",
       "<table border=\"1\" class=\"dataframe\">\n",
       "  <thead>\n",
       "    <tr style=\"text-align: right;\">\n",
       "      <th></th>\n",
       "      <th>name</th>\n",
       "      <th>review</th>\n",
       "      <th>rating</th>\n",
       "      <th>word_count</th>\n",
       "      <th>sentiment</th>\n",
       "      <th>selected_words_count</th>\n",
       "    </tr>\n",
       "  </thead>\n",
       "  <tbody>\n",
       "    <tr>\n",
       "      <th>0</th>\n",
       "      <td>Planetwise Wipe Pouch</td>\n",
       "      <td>it came early and was not disappointed. i love...</td>\n",
       "      <td>5</td>\n",
       "      <td>{'recommend': 1, 'keps': 1, 'early': 1, 'bags'...</td>\n",
       "      <td>True</td>\n",
       "      <td>{'love': 1}</td>\n",
       "    </tr>\n",
       "    <tr>\n",
       "      <th>1</th>\n",
       "      <td>Annas Dream Full Quilt with 2 Shams</td>\n",
       "      <td>Very soft and comfortable and warmer than it l...</td>\n",
       "      <td>5</td>\n",
       "      <td>{'bed': 1, 'for': 1, 'recommend': 1, 'full': 1...</td>\n",
       "      <td>True</td>\n",
       "      <td>{}</td>\n",
       "    </tr>\n",
       "    <tr>\n",
       "      <th>2</th>\n",
       "      <td>Stop Pacifier Sucking without tears with Thumb...</td>\n",
       "      <td>This is a product well worth the purchase.  I ...</td>\n",
       "      <td>5</td>\n",
       "      <td>{'else': 1, 'found': 1, 'about': 1, 'losing': ...</td>\n",
       "      <td>True</td>\n",
       "      <td>{'love': 2}</td>\n",
       "    </tr>\n",
       "    <tr>\n",
       "      <th>3</th>\n",
       "      <td>Stop Pacifier Sucking without tears with Thumb...</td>\n",
       "      <td>All of my kids have cried non-stop when I trie...</td>\n",
       "      <td>5</td>\n",
       "      <td>{'found': 1, 'save': 1, 'to': 5, 'book': 2, 'h...</td>\n",
       "      <td>True</td>\n",
       "      <td>{'great': 1}</td>\n",
       "    </tr>\n",
       "    <tr>\n",
       "      <th>4</th>\n",
       "      <td>Stop Pacifier Sucking without tears with Thumb...</td>\n",
       "      <td>When the Binky Fairy came to our house, we did...</td>\n",
       "      <td>5</td>\n",
       "      <td>{'stop': 1, 'made': 1, 'sucking': 1, 'our': 2,...</td>\n",
       "      <td>True</td>\n",
       "      <td>{'great': 1}</td>\n",
       "    </tr>\n",
       "  </tbody>\n",
       "</table>\n",
       "</div>"
      ],
      "text/plain": [
       "                                                name  \\\n",
       "0                              Planetwise Wipe Pouch   \n",
       "1                Annas Dream Full Quilt with 2 Shams   \n",
       "2  Stop Pacifier Sucking without tears with Thumb...   \n",
       "3  Stop Pacifier Sucking without tears with Thumb...   \n",
       "4  Stop Pacifier Sucking without tears with Thumb...   \n",
       "\n",
       "                                              review  rating  \\\n",
       "0  it came early and was not disappointed. i love...       5   \n",
       "1  Very soft and comfortable and warmer than it l...       5   \n",
       "2  This is a product well worth the purchase.  I ...       5   \n",
       "3  All of my kids have cried non-stop when I trie...       5   \n",
       "4  When the Binky Fairy came to our house, we did...       5   \n",
       "\n",
       "                                          word_count sentiment  \\\n",
       "0  {'recommend': 1, 'keps': 1, 'early': 1, 'bags'...      True   \n",
       "1  {'bed': 1, 'for': 1, 'recommend': 1, 'full': 1...      True   \n",
       "2  {'else': 1, 'found': 1, 'about': 1, 'losing': ...      True   \n",
       "3  {'found': 1, 'save': 1, 'to': 5, 'book': 2, 'h...      True   \n",
       "4  {'stop': 1, 'made': 1, 'sucking': 1, 'our': 2,...      True   \n",
       "\n",
       "  selected_words_count  \n",
       "0          {'love': 1}  \n",
       "1                   {}  \n",
       "2          {'love': 2}  \n",
       "3         {'great': 1}  \n",
       "4         {'great': 1}  "
      ]
     },
     "execution_count": 23,
     "metadata": {},
     "output_type": "execute_result"
    }
   ],
   "source": [
    "products_non_neutral.head()"
   ]
  },
  {
   "cell_type": "markdown",
   "metadata": {
    "collapsed": true
   },
   "source": [
    "#### Featurizing the selected words"
   ]
  },
  {
   "cell_type": "markdown",
   "metadata": {},
   "source": [
    "Using pandas and sklearn to generate features from a dictionary. There maybe better solutions out there, and possible efficient as well, however I used this approach given the less time I had to complete the assignment."
   ]
  },
  {
   "cell_type": "code",
   "execution_count": 24,
   "metadata": {
    "collapsed": false
   },
   "outputs": [
    {
     "name": "stdout",
     "output_type": "stream",
     "text": [
      "<class 'numpy.ndarray'>\n",
      "<class 'list'>\n"
     ]
    }
   ],
   "source": [
    "DV = DictVectorizer(sparse=False)\n",
    "dummies = DV.fit_transform(products_non_neutral.selected_words_count)\n",
    "col_list = DV.get_feature_names()\n",
    "print(type(dummies))\n",
    "print(type(col_list))"
   ]
  },
  {
   "cell_type": "code",
   "execution_count": 25,
   "metadata": {
    "collapsed": false
   },
   "outputs": [
    {
     "data": {
      "text/html": [
       "<div>\n",
       "<table border=\"1\" class=\"dataframe\">\n",
       "  <thead>\n",
       "    <tr style=\"text-align: right;\">\n",
       "      <th></th>\n",
       "      <th>amazing</th>\n",
       "      <th>awesome</th>\n",
       "      <th>awful</th>\n",
       "      <th>bad</th>\n",
       "      <th>fantastic</th>\n",
       "      <th>great</th>\n",
       "      <th>hate</th>\n",
       "      <th>horrible</th>\n",
       "      <th>love</th>\n",
       "      <th>terrible</th>\n",
       "      <th>wow</th>\n",
       "    </tr>\n",
       "  </thead>\n",
       "  <tbody>\n",
       "    <tr>\n",
       "      <th>0</th>\n",
       "      <td>0.0</td>\n",
       "      <td>0.0</td>\n",
       "      <td>0.0</td>\n",
       "      <td>0.0</td>\n",
       "      <td>0.0</td>\n",
       "      <td>0.0</td>\n",
       "      <td>0.0</td>\n",
       "      <td>0.0</td>\n",
       "      <td>1.0</td>\n",
       "      <td>0.0</td>\n",
       "      <td>0.0</td>\n",
       "    </tr>\n",
       "    <tr>\n",
       "      <th>1</th>\n",
       "      <td>0.0</td>\n",
       "      <td>0.0</td>\n",
       "      <td>0.0</td>\n",
       "      <td>0.0</td>\n",
       "      <td>0.0</td>\n",
       "      <td>0.0</td>\n",
       "      <td>0.0</td>\n",
       "      <td>0.0</td>\n",
       "      <td>0.0</td>\n",
       "      <td>0.0</td>\n",
       "      <td>0.0</td>\n",
       "    </tr>\n",
       "    <tr>\n",
       "      <th>2</th>\n",
       "      <td>0.0</td>\n",
       "      <td>0.0</td>\n",
       "      <td>0.0</td>\n",
       "      <td>0.0</td>\n",
       "      <td>0.0</td>\n",
       "      <td>0.0</td>\n",
       "      <td>0.0</td>\n",
       "      <td>0.0</td>\n",
       "      <td>2.0</td>\n",
       "      <td>0.0</td>\n",
       "      <td>0.0</td>\n",
       "    </tr>\n",
       "    <tr>\n",
       "      <th>3</th>\n",
       "      <td>0.0</td>\n",
       "      <td>0.0</td>\n",
       "      <td>0.0</td>\n",
       "      <td>0.0</td>\n",
       "      <td>0.0</td>\n",
       "      <td>1.0</td>\n",
       "      <td>0.0</td>\n",
       "      <td>0.0</td>\n",
       "      <td>0.0</td>\n",
       "      <td>0.0</td>\n",
       "      <td>0.0</td>\n",
       "    </tr>\n",
       "    <tr>\n",
       "      <th>4</th>\n",
       "      <td>0.0</td>\n",
       "      <td>0.0</td>\n",
       "      <td>0.0</td>\n",
       "      <td>0.0</td>\n",
       "      <td>0.0</td>\n",
       "      <td>1.0</td>\n",
       "      <td>0.0</td>\n",
       "      <td>0.0</td>\n",
       "      <td>0.0</td>\n",
       "      <td>0.0</td>\n",
       "      <td>0.0</td>\n",
       "    </tr>\n",
       "  </tbody>\n",
       "</table>\n",
       "</div>"
      ],
      "text/plain": [
       "   amazing  awesome  awful  bad  fantastic  great  hate  horrible  love  \\\n",
       "0      0.0      0.0    0.0  0.0        0.0    0.0   0.0       0.0   1.0   \n",
       "1      0.0      0.0    0.0  0.0        0.0    0.0   0.0       0.0   0.0   \n",
       "2      0.0      0.0    0.0  0.0        0.0    0.0   0.0       0.0   2.0   \n",
       "3      0.0      0.0    0.0  0.0        0.0    1.0   0.0       0.0   0.0   \n",
       "4      0.0      0.0    0.0  0.0        0.0    1.0   0.0       0.0   0.0   \n",
       "\n",
       "   terrible  wow  \n",
       "0       0.0  0.0  \n",
       "1       0.0  0.0  \n",
       "2       0.0  0.0  \n",
       "3       0.0  0.0  \n",
       "4       0.0  0.0  "
      ]
     },
     "execution_count": 25,
     "metadata": {},
     "output_type": "execute_result"
    }
   ],
   "source": [
    "feature_dummies = pd.DataFrame(dummies, columns=col_list)\n",
    "feature_dummies.head()"
   ]
  },
  {
   "cell_type": "code",
   "execution_count": 26,
   "metadata": {
    "collapsed": false
   },
   "outputs": [
    {
     "data": {
      "text/html": [
       "<div>\n",
       "<table border=\"1\" class=\"dataframe\">\n",
       "  <thead>\n",
       "    <tr style=\"text-align: right;\">\n",
       "      <th></th>\n",
       "      <th>name</th>\n",
       "      <th>review</th>\n",
       "      <th>rating</th>\n",
       "      <th>word_count</th>\n",
       "      <th>sentiment</th>\n",
       "      <th>selected_words_count</th>\n",
       "      <th>amazing</th>\n",
       "      <th>awesome</th>\n",
       "      <th>awful</th>\n",
       "      <th>bad</th>\n",
       "      <th>fantastic</th>\n",
       "      <th>great</th>\n",
       "      <th>hate</th>\n",
       "      <th>horrible</th>\n",
       "      <th>love</th>\n",
       "      <th>terrible</th>\n",
       "      <th>wow</th>\n",
       "    </tr>\n",
       "  </thead>\n",
       "  <tbody>\n",
       "    <tr>\n",
       "      <th>0</th>\n",
       "      <td>Planetwise Wipe Pouch</td>\n",
       "      <td>it came early and was not disappointed. i love...</td>\n",
       "      <td>5</td>\n",
       "      <td>{'recommend': 1, 'keps': 1, 'early': 1, 'bags'...</td>\n",
       "      <td>True</td>\n",
       "      <td>{'love': 1}</td>\n",
       "      <td>0.0</td>\n",
       "      <td>0.0</td>\n",
       "      <td>0.0</td>\n",
       "      <td>0.0</td>\n",
       "      <td>0.0</td>\n",
       "      <td>0.0</td>\n",
       "      <td>0.0</td>\n",
       "      <td>0.0</td>\n",
       "      <td>1.0</td>\n",
       "      <td>0.0</td>\n",
       "      <td>0.0</td>\n",
       "    </tr>\n",
       "    <tr>\n",
       "      <th>1</th>\n",
       "      <td>Annas Dream Full Quilt with 2 Shams</td>\n",
       "      <td>Very soft and comfortable and warmer than it l...</td>\n",
       "      <td>5</td>\n",
       "      <td>{'bed': 1, 'for': 1, 'recommend': 1, 'full': 1...</td>\n",
       "      <td>True</td>\n",
       "      <td>{}</td>\n",
       "      <td>0.0</td>\n",
       "      <td>0.0</td>\n",
       "      <td>0.0</td>\n",
       "      <td>0.0</td>\n",
       "      <td>0.0</td>\n",
       "      <td>0.0</td>\n",
       "      <td>0.0</td>\n",
       "      <td>0.0</td>\n",
       "      <td>0.0</td>\n",
       "      <td>0.0</td>\n",
       "      <td>0.0</td>\n",
       "    </tr>\n",
       "    <tr>\n",
       "      <th>2</th>\n",
       "      <td>Stop Pacifier Sucking without tears with Thumb...</td>\n",
       "      <td>This is a product well worth the purchase.  I ...</td>\n",
       "      <td>5</td>\n",
       "      <td>{'else': 1, 'found': 1, 'about': 1, 'losing': ...</td>\n",
       "      <td>True</td>\n",
       "      <td>{'love': 2}</td>\n",
       "      <td>0.0</td>\n",
       "      <td>0.0</td>\n",
       "      <td>0.0</td>\n",
       "      <td>0.0</td>\n",
       "      <td>0.0</td>\n",
       "      <td>0.0</td>\n",
       "      <td>0.0</td>\n",
       "      <td>0.0</td>\n",
       "      <td>2.0</td>\n",
       "      <td>0.0</td>\n",
       "      <td>0.0</td>\n",
       "    </tr>\n",
       "  </tbody>\n",
       "</table>\n",
       "</div>"
      ],
      "text/plain": [
       "                                                name  \\\n",
       "0                              Planetwise Wipe Pouch   \n",
       "1                Annas Dream Full Quilt with 2 Shams   \n",
       "2  Stop Pacifier Sucking without tears with Thumb...   \n",
       "\n",
       "                                              review  rating  \\\n",
       "0  it came early and was not disappointed. i love...       5   \n",
       "1  Very soft and comfortable and warmer than it l...       5   \n",
       "2  This is a product well worth the purchase.  I ...       5   \n",
       "\n",
       "                                          word_count sentiment  \\\n",
       "0  {'recommend': 1, 'keps': 1, 'early': 1, 'bags'...      True   \n",
       "1  {'bed': 1, 'for': 1, 'recommend': 1, 'full': 1...      True   \n",
       "2  {'else': 1, 'found': 1, 'about': 1, 'losing': ...      True   \n",
       "\n",
       "  selected_words_count  amazing  awesome  awful  bad  fantastic  great  hate  \\\n",
       "0          {'love': 1}      0.0      0.0    0.0  0.0        0.0    0.0   0.0   \n",
       "1                   {}      0.0      0.0    0.0  0.0        0.0    0.0   0.0   \n",
       "2          {'love': 2}      0.0      0.0    0.0  0.0        0.0    0.0   0.0   \n",
       "\n",
       "   horrible  love  terrible  wow  \n",
       "0       0.0   1.0       0.0  0.0  \n",
       "1       0.0   0.0       0.0  0.0  \n",
       "2       0.0   2.0       0.0  0.0  "
      ]
     },
     "execution_count": 26,
     "metadata": {},
     "output_type": "execute_result"
    }
   ],
   "source": [
    "amazon_reviews = pd.concat([products_non_neutral, feature_dummies], axis=1) # axis 1 to join on as columns rather than rows\n",
    "amazon_reviews.head(3)"
   ]
  },
  {
   "cell_type": "markdown",
   "metadata": {},
   "source": [
    "### Question 1 & 2\n",
    "\n",
    "1. Out of the `selected_words`, which one is most used in the dataset? \n",
    "2. Which one is least used?"
   ]
  },
  {
   "cell_type": "code",
   "execution_count": 27,
   "metadata": {
    "collapsed": false
   },
   "outputs": [
    {
     "name": "stdout",
     "output_type": "stream",
     "text": [
      "amazing:  2542.0\n",
      "awesome:  3741.0\n",
      "awful:  661.0\n",
      "bad:  4054.0\n",
      "fantastic:  1607.0\n",
      "great:  54420.0\n",
      "hate:  1091.0\n",
      "horrible:  1087.0\n",
      "love:  41522.0\n",
      "terrible:  1103.0\n",
      "wow:  389.0\n"
     ]
    }
   ],
   "source": [
    "print(\"amazing: \", amazon_reviews.amazing.sum())\n",
    "print(\"awesome: \", amazon_reviews.awesome.sum())\n",
    "print(\"awful: \", amazon_reviews.awful.sum())\n",
    "print(\"bad: \", amazon_reviews.bad.sum())\n",
    "print(\"fantastic: \", amazon_reviews.fantastic.sum())\n",
    "print(\"great: \", amazon_reviews.great.sum())\n",
    "print(\"hate: \", amazon_reviews.hate.sum())\n",
    "print(\"horrible: \", amazon_reviews.horrible.sum())\n",
    "print(\"love: \", amazon_reviews.love.sum())\n",
    "print(\"terrible: \", amazon_reviews.terrible.sum())\n",
    "print(\"wow: \", amazon_reviews.wow.sum())"
   ]
  },
  {
   "cell_type": "markdown",
   "metadata": {},
   "source": [
    "### Question 3 & 4\n",
    "\n",
    "3. Out of the `selected_words`, which one has the most postive weight in the `selected_words_model`? \n",
    "4. Which one has the most negative weight?"
   ]
  },
  {
   "cell_type": "markdown",
   "metadata": {
    "collapsed": true
   },
   "source": [
    "##### Creating the selected_words_model\n",
    "\n",
    "Train a logistic regression classifier using just the `selected_words` as features. Look at the coefficients to gain insights into the weight. "
   ]
  },
  {
   "cell_type": "markdown",
   "metadata": {},
   "source": [
    "###### train, test"
   ]
  },
  {
   "cell_type": "code",
   "execution_count": 28,
   "metadata": {
    "collapsed": true
   },
   "outputs": [],
   "source": [
    "random.seed(0)\n",
    "train_data,test_data = model_selection.train_test_split(amazon_reviews, test_size = 0.2)"
   ]
  },
  {
   "cell_type": "code",
   "execution_count": 29,
   "metadata": {
    "collapsed": false
   },
   "outputs": [
    {
     "name": "stdout",
     "output_type": "stream",
     "text": [
      "Shape of Training data: (133401, 17)\n",
      "Shape of Testing data: (33351, 17)\n"
     ]
    },
    {
     "data": {
      "text/html": [
       "<div>\n",
       "<table border=\"1\" class=\"dataframe\">\n",
       "  <thead>\n",
       "    <tr style=\"text-align: right;\">\n",
       "      <th></th>\n",
       "      <th>name</th>\n",
       "      <th>review</th>\n",
       "      <th>rating</th>\n",
       "      <th>word_count</th>\n",
       "      <th>sentiment</th>\n",
       "      <th>selected_words_count</th>\n",
       "      <th>amazing</th>\n",
       "      <th>awesome</th>\n",
       "      <th>awful</th>\n",
       "      <th>bad</th>\n",
       "      <th>fantastic</th>\n",
       "      <th>great</th>\n",
       "      <th>hate</th>\n",
       "      <th>horrible</th>\n",
       "      <th>love</th>\n",
       "      <th>terrible</th>\n",
       "      <th>wow</th>\n",
       "    </tr>\n",
       "  </thead>\n",
       "  <tbody>\n",
       "    <tr>\n",
       "      <th>100945</th>\n",
       "      <td>Graco Portland Combo Dresser, White</td>\n",
       "      <td>I like the color of this product. This product...</td>\n",
       "      <td>5</td>\n",
       "      <td>{'goes': 1, 'color': 1, 'put': 1, 'hard': 1, '...</td>\n",
       "      <td>True</td>\n",
       "      <td>{}</td>\n",
       "      <td>0.0</td>\n",
       "      <td>0.0</td>\n",
       "      <td>0.0</td>\n",
       "      <td>0.0</td>\n",
       "      <td>0.0</td>\n",
       "      <td>0.0</td>\n",
       "      <td>0.0</td>\n",
       "      <td>0.0</td>\n",
       "      <td>0.0</td>\n",
       "      <td>0.0</td>\n",
       "      <td>0.0</td>\n",
       "    </tr>\n",
       "    <tr>\n",
       "      <th>20791</th>\n",
       "      <td>BABYBJORN Soft Bib, Red</td>\n",
       "      <td>We\\'ve used 2 of these bibs continuously for 2...</td>\n",
       "      <td>5</td>\n",
       "      <td>{'children': 1, 'years': 1, 'old': 1, 'our': 1...</td>\n",
       "      <td>True</td>\n",
       "      <td>{}</td>\n",
       "      <td>0.0</td>\n",
       "      <td>0.0</td>\n",
       "      <td>0.0</td>\n",
       "      <td>0.0</td>\n",
       "      <td>0.0</td>\n",
       "      <td>0.0</td>\n",
       "      <td>0.0</td>\n",
       "      <td>0.0</td>\n",
       "      <td>0.0</td>\n",
       "      <td>0.0</td>\n",
       "      <td>0.0</td>\n",
       "    </tr>\n",
       "    <tr>\n",
       "      <th>41440</th>\n",
       "      <td>Tiny Love Take-Along Arch, Sunny Stroll</td>\n",
       "      <td>My baby loved it so much. It attracts her atte...</td>\n",
       "      <td>5</td>\n",
       "      <td>{'every': 1, 'attach': 2, 'about': 1, 'loved':...</td>\n",
       "      <td>True</td>\n",
       "      <td>{}</td>\n",
       "      <td>0.0</td>\n",
       "      <td>0.0</td>\n",
       "      <td>0.0</td>\n",
       "      <td>0.0</td>\n",
       "      <td>0.0</td>\n",
       "      <td>0.0</td>\n",
       "      <td>0.0</td>\n",
       "      <td>0.0</td>\n",
       "      <td>0.0</td>\n",
       "      <td>0.0</td>\n",
       "      <td>0.0</td>\n",
       "    </tr>\n",
       "    <tr>\n",
       "      <th>121175</th>\n",
       "      <td>Boppy Shopping Cart Cover, Deco Stripe</td>\n",
       "      <td>I haven\\'t used this much yet, but I am still ...</td>\n",
       "      <td>4</td>\n",
       "      <td>{'still': 1, 'am': 1, 'confused': 1, 'used': 1...</td>\n",
       "      <td>True</td>\n",
       "      <td>{}</td>\n",
       "      <td>0.0</td>\n",
       "      <td>0.0</td>\n",
       "      <td>0.0</td>\n",
       "      <td>0.0</td>\n",
       "      <td>0.0</td>\n",
       "      <td>0.0</td>\n",
       "      <td>0.0</td>\n",
       "      <td>0.0</td>\n",
       "      <td>0.0</td>\n",
       "      <td>0.0</td>\n",
       "      <td>0.0</td>\n",
       "    </tr>\n",
       "    <tr>\n",
       "      <th>87778</th>\n",
       "      <td>Thermos FOOGO Phases Straw Bottle, Blue/Yellow...</td>\n",
       "      <td>I purchased this thermos because of the ease o...</td>\n",
       "      <td>5</td>\n",
       "      <td>{'easy': 1, 'expected': 1, 'arrived': 2, 'they...</td>\n",
       "      <td>True</td>\n",
       "      <td>{}</td>\n",
       "      <td>0.0</td>\n",
       "      <td>0.0</td>\n",
       "      <td>0.0</td>\n",
       "      <td>0.0</td>\n",
       "      <td>0.0</td>\n",
       "      <td>0.0</td>\n",
       "      <td>0.0</td>\n",
       "      <td>0.0</td>\n",
       "      <td>0.0</td>\n",
       "      <td>0.0</td>\n",
       "      <td>0.0</td>\n",
       "    </tr>\n",
       "  </tbody>\n",
       "</table>\n",
       "</div>"
      ],
      "text/plain": [
       "                                                     name  \\\n",
       "100945                Graco Portland Combo Dresser, White   \n",
       "20791                             BABYBJORN Soft Bib, Red   \n",
       "41440             Tiny Love Take-Along Arch, Sunny Stroll   \n",
       "121175             Boppy Shopping Cart Cover, Deco Stripe   \n",
       "87778   Thermos FOOGO Phases Straw Bottle, Blue/Yellow...   \n",
       "\n",
       "                                                   review  rating  \\\n",
       "100945  I like the color of this product. This product...       5   \n",
       "20791   We\\'ve used 2 of these bibs continuously for 2...       5   \n",
       "41440   My baby loved it so much. It attracts her atte...       5   \n",
       "121175  I haven\\'t used this much yet, but I am still ...       4   \n",
       "87778   I purchased this thermos because of the ease o...       5   \n",
       "\n",
       "                                               word_count sentiment  \\\n",
       "100945  {'goes': 1, 'color': 1, 'put': 1, 'hard': 1, '...      True   \n",
       "20791   {'children': 1, 'years': 1, 'old': 1, 'our': 1...      True   \n",
       "41440   {'every': 1, 'attach': 2, 'about': 1, 'loved':...      True   \n",
       "121175  {'still': 1, 'am': 1, 'confused': 1, 'used': 1...      True   \n",
       "87778   {'easy': 1, 'expected': 1, 'arrived': 2, 'they...      True   \n",
       "\n",
       "       selected_words_count  amazing  awesome  awful  bad  fantastic  great  \\\n",
       "100945                   {}      0.0      0.0    0.0  0.0        0.0    0.0   \n",
       "20791                    {}      0.0      0.0    0.0  0.0        0.0    0.0   \n",
       "41440                    {}      0.0      0.0    0.0  0.0        0.0    0.0   \n",
       "121175                   {}      0.0      0.0    0.0  0.0        0.0    0.0   \n",
       "87778                    {}      0.0      0.0    0.0  0.0        0.0    0.0   \n",
       "\n",
       "        hate  horrible  love  terrible  wow  \n",
       "100945   0.0       0.0   0.0       0.0  0.0  \n",
       "20791    0.0       0.0   0.0       0.0  0.0  \n",
       "41440    0.0       0.0   0.0       0.0  0.0  \n",
       "121175   0.0       0.0   0.0       0.0  0.0  \n",
       "87778    0.0       0.0   0.0       0.0  0.0  "
      ]
     },
     "execution_count": 29,
     "metadata": {},
     "output_type": "execute_result"
    }
   ],
   "source": [
    "print(\"Shape of Training data:\", train_data.shape)\n",
    "print(\"Shape of Testing data:\", test_data.shape)\n",
    "train_data.head()"
   ]
  },
  {
   "cell_type": "markdown",
   "metadata": {},
   "source": [
    "###### creating classifier"
   ]
  },
  {
   "cell_type": "code",
   "execution_count": 30,
   "metadata": {
    "collapsed": false
   },
   "outputs": [],
   "source": [
    "X = pd.DataFrame(train_data, columns=selected_words)\n",
    "y = train_data.sentiment.copy()"
   ]
  },
  {
   "cell_type": "code",
   "execution_count": 31,
   "metadata": {
    "collapsed": false
   },
   "outputs": [
    {
     "name": "stdout",
     "output_type": "stream",
     "text": [
      "100945    True\n",
      "20791     True\n",
      "41440     True\n",
      "121175    True\n",
      "87778     True\n",
      "Name: sentiment, dtype: bool\n"
     ]
    },
    {
     "data": {
      "text/html": [
       "<div>\n",
       "<table border=\"1\" class=\"dataframe\">\n",
       "  <thead>\n",
       "    <tr style=\"text-align: right;\">\n",
       "      <th></th>\n",
       "      <th>awesome</th>\n",
       "      <th>great</th>\n",
       "      <th>fantastic</th>\n",
       "      <th>amazing</th>\n",
       "      <th>love</th>\n",
       "      <th>horrible</th>\n",
       "      <th>bad</th>\n",
       "      <th>terrible</th>\n",
       "      <th>awful</th>\n",
       "      <th>wow</th>\n",
       "      <th>hate</th>\n",
       "    </tr>\n",
       "  </thead>\n",
       "  <tbody>\n",
       "    <tr>\n",
       "      <th>100945</th>\n",
       "      <td>0.0</td>\n",
       "      <td>0.0</td>\n",
       "      <td>0.0</td>\n",
       "      <td>0.0</td>\n",
       "      <td>0.0</td>\n",
       "      <td>0.0</td>\n",
       "      <td>0.0</td>\n",
       "      <td>0.0</td>\n",
       "      <td>0.0</td>\n",
       "      <td>0.0</td>\n",
       "      <td>0.0</td>\n",
       "    </tr>\n",
       "    <tr>\n",
       "      <th>20791</th>\n",
       "      <td>0.0</td>\n",
       "      <td>0.0</td>\n",
       "      <td>0.0</td>\n",
       "      <td>0.0</td>\n",
       "      <td>0.0</td>\n",
       "      <td>0.0</td>\n",
       "      <td>0.0</td>\n",
       "      <td>0.0</td>\n",
       "      <td>0.0</td>\n",
       "      <td>0.0</td>\n",
       "      <td>0.0</td>\n",
       "    </tr>\n",
       "    <tr>\n",
       "      <th>41440</th>\n",
       "      <td>0.0</td>\n",
       "      <td>0.0</td>\n",
       "      <td>0.0</td>\n",
       "      <td>0.0</td>\n",
       "      <td>0.0</td>\n",
       "      <td>0.0</td>\n",
       "      <td>0.0</td>\n",
       "      <td>0.0</td>\n",
       "      <td>0.0</td>\n",
       "      <td>0.0</td>\n",
       "      <td>0.0</td>\n",
       "    </tr>\n",
       "    <tr>\n",
       "      <th>121175</th>\n",
       "      <td>0.0</td>\n",
       "      <td>0.0</td>\n",
       "      <td>0.0</td>\n",
       "      <td>0.0</td>\n",
       "      <td>0.0</td>\n",
       "      <td>0.0</td>\n",
       "      <td>0.0</td>\n",
       "      <td>0.0</td>\n",
       "      <td>0.0</td>\n",
       "      <td>0.0</td>\n",
       "      <td>0.0</td>\n",
       "    </tr>\n",
       "    <tr>\n",
       "      <th>87778</th>\n",
       "      <td>0.0</td>\n",
       "      <td>0.0</td>\n",
       "      <td>0.0</td>\n",
       "      <td>0.0</td>\n",
       "      <td>0.0</td>\n",
       "      <td>0.0</td>\n",
       "      <td>0.0</td>\n",
       "      <td>0.0</td>\n",
       "      <td>0.0</td>\n",
       "      <td>0.0</td>\n",
       "      <td>0.0</td>\n",
       "    </tr>\n",
       "  </tbody>\n",
       "</table>\n",
       "</div>"
      ],
      "text/plain": [
       "        awesome  great  fantastic  amazing  love  horrible  bad  terrible  \\\n",
       "100945      0.0    0.0        0.0      0.0   0.0       0.0  0.0       0.0   \n",
       "20791       0.0    0.0        0.0      0.0   0.0       0.0  0.0       0.0   \n",
       "41440       0.0    0.0        0.0      0.0   0.0       0.0  0.0       0.0   \n",
       "121175      0.0    0.0        0.0      0.0   0.0       0.0  0.0       0.0   \n",
       "87778       0.0    0.0        0.0      0.0   0.0       0.0  0.0       0.0   \n",
       "\n",
       "        awful  wow  hate  \n",
       "100945    0.0  0.0   0.0  \n",
       "20791     0.0  0.0   0.0  \n",
       "41440     0.0  0.0   0.0  \n",
       "121175    0.0  0.0   0.0  \n",
       "87778     0.0  0.0   0.0  "
      ]
     },
     "execution_count": 31,
     "metadata": {},
     "output_type": "execute_result"
    }
   ],
   "source": [
    "print(y.head())\n",
    "X.head()"
   ]
  },
  {
   "cell_type": "markdown",
   "metadata": {},
   "source": [
    "###### logit model"
   ]
  },
  {
   "cell_type": "code",
   "execution_count": 32,
   "metadata": {
    "collapsed": true
   },
   "outputs": [],
   "source": [
    "model = LogisticRegression()\n",
    "selected_words_model = model.fit(X,y)"
   ]
  },
  {
   "cell_type": "code",
   "execution_count": 33,
   "metadata": {
    "collapsed": false
   },
   "outputs": [
    {
     "data": {
      "text/plain": [
       "0.84695766898299119"
      ]
     },
     "execution_count": 33,
     "metadata": {},
     "output_type": "execute_result"
    }
   ],
   "source": [
    "selected_words_model.score(X,y)"
   ]
  },
  {
   "cell_type": "code",
   "execution_count": 34,
   "metadata": {
    "collapsed": false
   },
   "outputs": [],
   "source": [
    "model_coeffs = (np.transpose(selected_words_model.coef_))\n",
    "model_coeffs = map(lambda x: x[0], model_coeffs)\n",
    "coefficients = pd.Series(model_coeffs)"
   ]
  },
  {
   "cell_type": "code",
   "execution_count": 35,
   "metadata": {
    "collapsed": false
   },
   "outputs": [
    {
     "data": {
      "text/html": [
       "<div>\n",
       "<table border=\"1\" class=\"dataframe\">\n",
       "  <thead>\n",
       "    <tr style=\"text-align: right;\">\n",
       "      <th></th>\n",
       "      <th>0</th>\n",
       "    </tr>\n",
       "  </thead>\n",
       "  <tbody>\n",
       "    <tr>\n",
       "      <th>1.182474</th>\n",
       "      <td>awesome</td>\n",
       "    </tr>\n",
       "    <tr>\n",
       "      <th>0.874742</th>\n",
       "      <td>great</td>\n",
       "    </tr>\n",
       "    <tr>\n",
       "      <th>0.884660</th>\n",
       "      <td>fantastic</td>\n",
       "    </tr>\n",
       "    <tr>\n",
       "      <th>1.032005</th>\n",
       "      <td>amazing</td>\n",
       "    </tr>\n",
       "    <tr>\n",
       "      <th>1.381050</th>\n",
       "      <td>love</td>\n",
       "    </tr>\n",
       "    <tr>\n",
       "      <th>-2.296061</th>\n",
       "      <td>horrible</td>\n",
       "    </tr>\n",
       "    <tr>\n",
       "      <th>-0.995814</th>\n",
       "      <td>bad</td>\n",
       "    </tr>\n",
       "    <tr>\n",
       "      <th>-2.216800</th>\n",
       "      <td>terrible</td>\n",
       "    </tr>\n",
       "    <tr>\n",
       "      <th>-2.043440</th>\n",
       "      <td>awful</td>\n",
       "    </tr>\n",
       "    <tr>\n",
       "      <th>-0.045385</th>\n",
       "      <td>wow</td>\n",
       "    </tr>\n",
       "    <tr>\n",
       "      <th>-1.362678</th>\n",
       "      <td>hate</td>\n",
       "    </tr>\n",
       "  </tbody>\n",
       "</table>\n",
       "</div>"
      ],
      "text/plain": [
       "                   0\n",
       " 1.182474    awesome\n",
       " 0.874742      great\n",
       " 0.884660  fantastic\n",
       " 1.032005    amazing\n",
       " 1.381050       love\n",
       "-2.296061   horrible\n",
       "-0.995814        bad\n",
       "-2.216800   terrible\n",
       "-2.043440      awful\n",
       "-0.045385        wow\n",
       "-1.362678       hate"
      ]
     },
     "execution_count": 35,
     "metadata": {},
     "output_type": "execute_result"
    }
   ],
   "source": [
    "pd.DataFrame(X.columns.values, coefficients)"
   ]
  },
  {
   "cell_type": "markdown",
   "metadata": {},
   "source": [
    "From the value of coefficients and selected words, we can see that the values for most postive and most negative are for `love` and `terrible`. Depending on your seed value, you may get `horrible` as the answer which is just `terribly` bad luck for the quiz."
   ]
  },
  {
   "cell_type": "markdown",
   "metadata": {},
   "source": [
    "### Question 5\n",
    "\n",
    "In what range is the accracy  of the `selected_words_model` on the `test_data`?"
   ]
  },
  {
   "cell_type": "code",
   "execution_count": 36,
   "metadata": {
    "collapsed": false
   },
   "outputs": [
    {
     "data": {
      "text/plain": [
       "0.84837036370723518"
      ]
     },
     "execution_count": 36,
     "metadata": {},
     "output_type": "execute_result"
    }
   ],
   "source": [
    "X_test = pd.DataFrame(test_data, columns=selected_words)\n",
    "y_test = test_data.sentiment.copy()\n",
    "selected_words_model.score(X_test,y_test)"
   ]
  },
  {
   "cell_type": "markdown",
   "metadata": {},
   "source": [
    "Given the above value of accuracy, the range is `0.841 to 0.871`"
   ]
  },
  {
   "cell_type": "markdown",
   "metadata": {},
   "source": [
    "### Question 6\n",
    "\n",
    "In what range is the accracy  of the `sentiment_model` on the `test_data`? \n",
    "\n",
    "_Note_: \n",
    "1. Refer to the lecture **Training a sentiment classifier** for the `sentiment_model` definition and training vs test split. \n",
    "2. The `sentiment_model` uses the `products` data which is transformed as `products_non_neutral` in this notebook."
   ]
  },
  {
   "cell_type": "markdown",
   "metadata": {},
   "source": [
    "All the below code should work fine provided there is enough memory. I am using a 64bit python on a 64 bit machine, however the size of the features is more than 100,000 which is creating a out of memory error. \n",
    "\n",
    "There are other ways, that can bring in more efficiency, including reducing the features by removing parse words, stemming and lemmatization, however due to paucity of time, it has not been tried.\n",
    "\n",
    "To answer the question, I have used qualitative assessment on the values. If the accuracy on selected words is 84% and has 11 features, given the number of features availble for sentiment model, an educated guess is of accuracy greater than 90%."
   ]
  },
  {
   "cell_type": "markdown",
   "metadata": {},
   "source": [
    "###### creating dummies"
   ]
  },
  {
   "cell_type": "code",
   "execution_count": 37,
   "metadata": {
    "collapsed": false
   },
   "outputs": [],
   "source": [
    "# DV = DictVectorizer(sparse=False) \n",
    "# dummies = DV.fit_transform(products_non_neutral.word_count)\n",
    "# col_list = DV.get_feature_names()\n",
    "# print(type(dummies))\n",
    "# print(type(col_list))"
   ]
  },
  {
   "cell_type": "code",
   "execution_count": 38,
   "metadata": {
    "collapsed": false
   },
   "outputs": [],
   "source": [
    "# len(col_list) # the data has already been case converted, puntuation & numbers dropped"
   ]
  },
  {
   "cell_type": "code",
   "execution_count": 39,
   "metadata": {
    "collapsed": false
   },
   "outputs": [],
   "source": [
    "# feature_dummies = pd.DataFrame(dummies, columns=col_list)\n",
    "# feature_dummies.shape"
   ]
  },
  {
   "cell_type": "code",
   "execution_count": 40,
   "metadata": {
    "collapsed": true
   },
   "outputs": [],
   "source": [
    "# amazon_reviews = pd.concat([products_non_neutral, feature_dummies], axis=1) # axis 1 to join on as columns rather than rows\n",
    "# amazon_reviews.head(3)"
   ]
  },
  {
   "cell_type": "markdown",
   "metadata": {},
   "source": [
    "###### train, test"
   ]
  },
  {
   "cell_type": "code",
   "execution_count": 41,
   "metadata": {
    "collapsed": true
   },
   "outputs": [],
   "source": [
    "# random.seed(0)\n",
    "# train_data,test_data = model_selection.train_test_split(amazon_reviews, test_size = 0.2)"
   ]
  },
  {
   "cell_type": "code",
   "execution_count": 42,
   "metadata": {
    "collapsed": true
   },
   "outputs": [],
   "source": [
    "# X = pd.DataFrame(train_data, columns= col_list)\n",
    "# y = train_data.sentiment.copy()"
   ]
  },
  {
   "cell_type": "code",
   "execution_count": 43,
   "metadata": {
    "collapsed": true
   },
   "outputs": [],
   "source": [
    "# sentiment_model = model.fit(X,y)\n",
    "# sentiment_model.score(X,y)"
   ]
  },
  {
   "cell_type": "code",
   "execution_count": 44,
   "metadata": {
    "collapsed": true
   },
   "outputs": [],
   "source": [
    "# X_test = pd.DataFrame(test_data, columns=col_list)\n",
    "# y_test = test_data.sentiment.copy()\n",
    "# sentiment_model.score(X_test,y_test)"
   ]
  },
  {
   "cell_type": "markdown",
   "metadata": {},
   "source": [
    "### Question 7\n",
    "\n",
    "In what range is the accracy  of simply predicting the majority class on the `test_data`?\n",
    "\n",
    "Now a baseline approach for majority class can be either assuming all predictions are same as the majority class. Another approach could be random guessing. For this question, all predictions belong to majority class is used."
   ]
  },
  {
   "cell_type": "markdown",
   "metadata": {},
   "source": [
    "###### majority class"
   ]
  },
  {
   "cell_type": "code",
   "execution_count": 45,
   "metadata": {
    "collapsed": false
   },
   "outputs": [
    {
     "name": "stdout",
     "output_type": "stream",
     "text": [
      "28062\n"
     ]
    },
    {
     "data": {
      "text/plain": [
       "(33351, 17)"
      ]
     },
     "execution_count": 45,
     "metadata": {},
     "output_type": "execute_result"
    }
   ],
   "source": [
    "print(test_data.sentiment.sum())\n",
    "test_data.shape"
   ]
  },
  {
   "cell_type": "markdown",
   "metadata": {},
   "source": [
    "###### accuracy for majority class"
   ]
  },
  {
   "cell_type": "code",
   "execution_count": 46,
   "metadata": {
    "collapsed": false
   },
   "outputs": [
    {
     "data": {
      "text/plain": [
       "0.84141405055320684"
      ]
     },
     "execution_count": 46,
     "metadata": {},
     "output_type": "execute_result"
    }
   ],
   "source": [
    "test_data.sentiment.sum() /  test_data.shape[0]"
   ]
  },
  {
   "cell_type": "markdown",
   "metadata": {},
   "source": [
    "### Question 8\n",
    "\n",
    "How do you compare the different learned models  with the baseline approach where we are just predicting the majority class?"
   ]
  },
  {
   "cell_type": "markdown",
   "metadata": {
    "collapsed": true
   },
   "source": [
    "**Answer**:\n",
    "\n",
    "Accuracy for base line approach  : approx 84%  \n",
    "Accuracy for selected words model: approx 85%  \n",
    "Accuracy for sentiment model     : approx 90%  \n",
    "\n",
    "So sentment model performed much better than other two. The other two performed about the same."
   ]
  },
  {
   "cell_type": "markdown",
   "metadata": {},
   "source": [
    "### Question 9\n",
    "\n",
    "In what range is the `predicted_sentiment` for the most positive review for the `Baby Trend Diaper Champ` according to the `sentiment_model`?"
   ]
  },
  {
   "cell_type": "markdown",
   "metadata": {},
   "source": [
    "###### train, test"
   ]
  },
  {
   "cell_type": "code",
   "execution_count": 47,
   "metadata": {
    "collapsed": true
   },
   "outputs": [],
   "source": [
    "baby_trend = products_non_neutral[products_non_neutral['name'] == 'Baby Trend Diaper Champ'].copy()\n",
    "idx_length = baby_trend.rating.size\n",
    "baby_trend.index = range(idx_length)"
   ]
  },
  {
   "cell_type": "code",
   "execution_count": 48,
   "metadata": {
    "collapsed": true
   },
   "outputs": [],
   "source": [
    "DV = DictVectorizer(sparse=False) \n",
    "dummies = DV.fit_transform(baby_trend.word_count)\n",
    "col_list = DV.get_feature_names()"
   ]
  },
  {
   "cell_type": "code",
   "execution_count": 49,
   "metadata": {
    "collapsed": false
   },
   "outputs": [
    {
     "name": "stdout",
     "output_type": "stream",
     "text": [
      "['champ', 'diaper', 'howd', 'n', 'potent', 'r', 'thud', 'a', 'ability', 'able']\n"
     ]
    }
   ],
   "source": [
    "new_list = []\n",
    "for item in col_list:\n",
    "    item = item.replace(\"\\\\\",\"\")\n",
    "    new_list.append(item)\n",
    "print(new_list[0:10])"
   ]
  },
  {
   "cell_type": "code",
   "execution_count": 50,
   "metadata": {
    "collapsed": true
   },
   "outputs": [],
   "source": [
    "feature_dummies = pd.DataFrame(dummies, columns=new_list)"
   ]
  },
  {
   "cell_type": "code",
   "execution_count": 51,
   "metadata": {
    "collapsed": false
   },
   "outputs": [
    {
     "name": "stdout",
     "output_type": "stream",
     "text": [
      "(298, 2872)\n"
     ]
    },
    {
     "data": {
      "text/plain": [
       "(298, 6)"
      ]
     },
     "execution_count": 51,
     "metadata": {},
     "output_type": "execute_result"
    }
   ],
   "source": [
    "print(feature_dummies.shape)\n",
    "baby_trend.shape"
   ]
  },
  {
   "cell_type": "code",
   "execution_count": 52,
   "metadata": {
    "collapsed": false
   },
   "outputs": [
    {
     "data": {
      "text/html": [
       "<div>\n",
       "<table border=\"1\" class=\"dataframe\">\n",
       "  <thead>\n",
       "    <tr style=\"text-align: right;\">\n",
       "      <th></th>\n",
       "      <th>champ</th>\n",
       "      <th>diaper</th>\n",
       "      <th>howd</th>\n",
       "      <th>n</th>\n",
       "      <th>potent</th>\n",
       "      <th>r</th>\n",
       "      <th>thud</th>\n",
       "      <th>a</th>\n",
       "      <th>ability</th>\n",
       "      <th>able</th>\n",
       "      <th>...</th>\n",
       "      <th>your</th>\n",
       "      <th>yours</th>\n",
       "      <th>yourself</th>\n",
       "      <th>yowlingthis</th>\n",
       "      <th>yr</th>\n",
       "      <th>yuck</th>\n",
       "      <th>zero</th>\n",
       "      <th>zip</th>\n",
       "      <th>ziplock</th>\n",
       "      <th>ziplocs</th>\n",
       "    </tr>\n",
       "  </thead>\n",
       "  <tbody>\n",
       "    <tr>\n",
       "      <th>0</th>\n",
       "      <td>0.0</td>\n",
       "      <td>0.0</td>\n",
       "      <td>0.0</td>\n",
       "      <td>0.0</td>\n",
       "      <td>0.0</td>\n",
       "      <td>0.0</td>\n",
       "      <td>0.0</td>\n",
       "      <td>6.0</td>\n",
       "      <td>0.0</td>\n",
       "      <td>0.0</td>\n",
       "      <td>...</td>\n",
       "      <td>0.0</td>\n",
       "      <td>0.0</td>\n",
       "      <td>0.0</td>\n",
       "      <td>0.0</td>\n",
       "      <td>0.0</td>\n",
       "      <td>0.0</td>\n",
       "      <td>0.0</td>\n",
       "      <td>0.0</td>\n",
       "      <td>0.0</td>\n",
       "      <td>0.0</td>\n",
       "    </tr>\n",
       "    <tr>\n",
       "      <th>1</th>\n",
       "      <td>0.0</td>\n",
       "      <td>0.0</td>\n",
       "      <td>0.0</td>\n",
       "      <td>0.0</td>\n",
       "      <td>0.0</td>\n",
       "      <td>0.0</td>\n",
       "      <td>0.0</td>\n",
       "      <td>5.0</td>\n",
       "      <td>0.0</td>\n",
       "      <td>0.0</td>\n",
       "      <td>...</td>\n",
       "      <td>0.0</td>\n",
       "      <td>0.0</td>\n",
       "      <td>0.0</td>\n",
       "      <td>0.0</td>\n",
       "      <td>0.0</td>\n",
       "      <td>0.0</td>\n",
       "      <td>0.0</td>\n",
       "      <td>0.0</td>\n",
       "      <td>0.0</td>\n",
       "      <td>0.0</td>\n",
       "    </tr>\n",
       "    <tr>\n",
       "      <th>2</th>\n",
       "      <td>0.0</td>\n",
       "      <td>0.0</td>\n",
       "      <td>0.0</td>\n",
       "      <td>0.0</td>\n",
       "      <td>0.0</td>\n",
       "      <td>0.0</td>\n",
       "      <td>0.0</td>\n",
       "      <td>1.0</td>\n",
       "      <td>0.0</td>\n",
       "      <td>0.0</td>\n",
       "      <td>...</td>\n",
       "      <td>0.0</td>\n",
       "      <td>0.0</td>\n",
       "      <td>0.0</td>\n",
       "      <td>0.0</td>\n",
       "      <td>0.0</td>\n",
       "      <td>0.0</td>\n",
       "      <td>0.0</td>\n",
       "      <td>0.0</td>\n",
       "      <td>0.0</td>\n",
       "      <td>0.0</td>\n",
       "    </tr>\n",
       "    <tr>\n",
       "      <th>3</th>\n",
       "      <td>0.0</td>\n",
       "      <td>0.0</td>\n",
       "      <td>0.0</td>\n",
       "      <td>0.0</td>\n",
       "      <td>0.0</td>\n",
       "      <td>0.0</td>\n",
       "      <td>0.0</td>\n",
       "      <td>2.0</td>\n",
       "      <td>0.0</td>\n",
       "      <td>0.0</td>\n",
       "      <td>...</td>\n",
       "      <td>1.0</td>\n",
       "      <td>0.0</td>\n",
       "      <td>0.0</td>\n",
       "      <td>0.0</td>\n",
       "      <td>0.0</td>\n",
       "      <td>0.0</td>\n",
       "      <td>0.0</td>\n",
       "      <td>0.0</td>\n",
       "      <td>0.0</td>\n",
       "      <td>0.0</td>\n",
       "    </tr>\n",
       "    <tr>\n",
       "      <th>4</th>\n",
       "      <td>0.0</td>\n",
       "      <td>0.0</td>\n",
       "      <td>0.0</td>\n",
       "      <td>0.0</td>\n",
       "      <td>0.0</td>\n",
       "      <td>0.0</td>\n",
       "      <td>0.0</td>\n",
       "      <td>16.0</td>\n",
       "      <td>0.0</td>\n",
       "      <td>0.0</td>\n",
       "      <td>...</td>\n",
       "      <td>1.0</td>\n",
       "      <td>0.0</td>\n",
       "      <td>0.0</td>\n",
       "      <td>0.0</td>\n",
       "      <td>0.0</td>\n",
       "      <td>0.0</td>\n",
       "      <td>0.0</td>\n",
       "      <td>0.0</td>\n",
       "      <td>0.0</td>\n",
       "      <td>0.0</td>\n",
       "    </tr>\n",
       "  </tbody>\n",
       "</table>\n",
       "<p>5 rows × 2872 columns</p>\n",
       "</div>"
      ],
      "text/plain": [
       "   champ  diaper  howd    n  potent    r  thud     a  ability  able   ...     \\\n",
       "0    0.0     0.0   0.0  0.0     0.0  0.0   0.0   6.0      0.0   0.0   ...      \n",
       "1    0.0     0.0   0.0  0.0     0.0  0.0   0.0   5.0      0.0   0.0   ...      \n",
       "2    0.0     0.0   0.0  0.0     0.0  0.0   0.0   1.0      0.0   0.0   ...      \n",
       "3    0.0     0.0   0.0  0.0     0.0  0.0   0.0   2.0      0.0   0.0   ...      \n",
       "4    0.0     0.0   0.0  0.0     0.0  0.0   0.0  16.0      0.0   0.0   ...      \n",
       "\n",
       "   your  yours  yourself  yowlingthis   yr  yuck  zero  zip  ziplock  ziplocs  \n",
       "0   0.0    0.0       0.0          0.0  0.0   0.0   0.0  0.0      0.0      0.0  \n",
       "1   0.0    0.0       0.0          0.0  0.0   0.0   0.0  0.0      0.0      0.0  \n",
       "2   0.0    0.0       0.0          0.0  0.0   0.0   0.0  0.0      0.0      0.0  \n",
       "3   1.0    0.0       0.0          0.0  0.0   0.0   0.0  0.0      0.0      0.0  \n",
       "4   1.0    0.0       0.0          0.0  0.0   0.0   0.0  0.0      0.0      0.0  \n",
       "\n",
       "[5 rows x 2872 columns]"
      ]
     },
     "execution_count": 52,
     "metadata": {},
     "output_type": "execute_result"
    }
   ],
   "source": [
    "feature_dummies.head()"
   ]
  },
  {
   "cell_type": "code",
   "execution_count": 53,
   "metadata": {
    "collapsed": false
   },
   "outputs": [
    {
     "data": {
      "text/html": [
       "<div>\n",
       "<table border=\"1\" class=\"dataframe\">\n",
       "  <thead>\n",
       "    <tr style=\"text-align: right;\">\n",
       "      <th></th>\n",
       "      <th>name</th>\n",
       "      <th>review</th>\n",
       "      <th>rating</th>\n",
       "      <th>word_count</th>\n",
       "      <th>sentiment</th>\n",
       "      <th>selected_words_count</th>\n",
       "      <th>champ</th>\n",
       "      <th>diaper</th>\n",
       "      <th>howd</th>\n",
       "      <th>n</th>\n",
       "      <th>...</th>\n",
       "      <th>your</th>\n",
       "      <th>yours</th>\n",
       "      <th>yourself</th>\n",
       "      <th>yowlingthis</th>\n",
       "      <th>yr</th>\n",
       "      <th>yuck</th>\n",
       "      <th>zero</th>\n",
       "      <th>zip</th>\n",
       "      <th>ziplock</th>\n",
       "      <th>ziplocs</th>\n",
       "    </tr>\n",
       "  </thead>\n",
       "  <tbody>\n",
       "    <tr>\n",
       "      <th>0</th>\n",
       "      <td>Baby Trend Diaper Champ</td>\n",
       "      <td>Ok - newsflash.  Diapers are just smelly.  We\\...</td>\n",
       "      <td>4</td>\n",
       "      <td>{'children': 1, 'our': 3, 'so': 1, 'didn\\t': 2...</td>\n",
       "      <td>True</td>\n",
       "      <td>{}</td>\n",
       "      <td>0.0</td>\n",
       "      <td>0.0</td>\n",
       "      <td>0.0</td>\n",
       "      <td>0.0</td>\n",
       "      <td>...</td>\n",
       "      <td>0.0</td>\n",
       "      <td>0.0</td>\n",
       "      <td>0.0</td>\n",
       "      <td>0.0</td>\n",
       "      <td>0.0</td>\n",
       "      <td>0.0</td>\n",
       "      <td>0.0</td>\n",
       "      <td>0.0</td>\n",
       "      <td>0.0</td>\n",
       "      <td>0.0</td>\n",
       "    </tr>\n",
       "    <tr>\n",
       "      <th>1</th>\n",
       "      <td>Baby Trend Diaper Champ</td>\n",
       "      <td>My husband and I selected the Diaper \"Champ\" m...</td>\n",
       "      <td>1</td>\n",
       "      <td>{'ordinary': 1, 'clorox': 1, 'positivethe': 1,...</td>\n",
       "      <td>False</td>\n",
       "      <td>{}</td>\n",
       "      <td>0.0</td>\n",
       "      <td>0.0</td>\n",
       "      <td>0.0</td>\n",
       "      <td>0.0</td>\n",
       "      <td>...</td>\n",
       "      <td>0.0</td>\n",
       "      <td>0.0</td>\n",
       "      <td>0.0</td>\n",
       "      <td>0.0</td>\n",
       "      <td>0.0</td>\n",
       "      <td>0.0</td>\n",
       "      <td>0.0</td>\n",
       "      <td>0.0</td>\n",
       "      <td>0.0</td>\n",
       "      <td>0.0</td>\n",
       "    </tr>\n",
       "  </tbody>\n",
       "</table>\n",
       "<p>2 rows × 2878 columns</p>\n",
       "</div>"
      ],
      "text/plain": [
       "                      name                                             review  \\\n",
       "0  Baby Trend Diaper Champ  Ok - newsflash.  Diapers are just smelly.  We\\...   \n",
       "1  Baby Trend Diaper Champ  My husband and I selected the Diaper \"Champ\" m...   \n",
       "\n",
       "   rating                                         word_count sentiment  \\\n",
       "0       4  {'children': 1, 'our': 3, 'so': 1, 'didn\\t': 2...      True   \n",
       "1       1  {'ordinary': 1, 'clorox': 1, 'positivethe': 1,...     False   \n",
       "\n",
       "  selected_words_count  champ  diaper  howd    n   ...     your  yours  \\\n",
       "0                   {}    0.0     0.0   0.0  0.0   ...      0.0    0.0   \n",
       "1                   {}    0.0     0.0   0.0  0.0   ...      0.0    0.0   \n",
       "\n",
       "   yourself  yowlingthis   yr  yuck  zero  zip  ziplock  ziplocs  \n",
       "0       0.0          0.0  0.0   0.0   0.0  0.0      0.0      0.0  \n",
       "1       0.0          0.0  0.0   0.0   0.0  0.0      0.0      0.0  \n",
       "\n",
       "[2 rows x 2878 columns]"
      ]
     },
     "execution_count": 53,
     "metadata": {},
     "output_type": "execute_result"
    }
   ],
   "source": [
    "baby_trend_reviews = pd.concat([baby_trend, feature_dummies], axis=1) # axis 1 to join on as columns rather than rows4\n",
    "baby_trend_reviews.head(2)"
   ]
  },
  {
   "cell_type": "code",
   "execution_count": 54,
   "metadata": {
    "collapsed": false
   },
   "outputs": [
    {
     "name": "stdout",
     "output_type": "stream",
     "text": [
      "(238, 2878)\n",
      "(60, 2878)\n"
     ]
    }
   ],
   "source": [
    "# train, test = model_selection.train_test_split(baby_trend_reviews, test_size = 0.2)\n",
    "train_data = baby_trend_reviews.sample(frac=0.8, random_state=0)\n",
    "test_data = baby_trend_reviews.loc[~baby_trend_reviews.index.isin(train_data.index)]\n",
    "\n",
    "print(train_data.shape)\n",
    "print(test_data.shape)"
   ]
  },
  {
   "cell_type": "markdown",
   "metadata": {},
   "source": [
    "###### model"
   ]
  },
  {
   "cell_type": "code",
   "execution_count": 55,
   "metadata": {
    "collapsed": false
   },
   "outputs": [],
   "source": [
    "X_all = baby_trend_reviews.ix[:,6:2878].copy()\n",
    "X = train_data.ix[:,6:2878].copy()\n",
    "y = train_data.sentiment.copy()"
   ]
  },
  {
   "cell_type": "code",
   "execution_count": 56,
   "metadata": {
    "collapsed": false
   },
   "outputs": [
    {
     "data": {
      "text/plain": [
       "1.0"
      ]
     },
     "execution_count": 56,
     "metadata": {},
     "output_type": "execute_result"
    }
   ],
   "source": [
    "sentiment_model = model.fit(X,y)\n",
    "model.score(X,y)"
   ]
  },
  {
   "cell_type": "markdown",
   "metadata": {},
   "source": [
    "###### prediction on test"
   ]
  },
  {
   "cell_type": "code",
   "execution_count": 57,
   "metadata": {
    "collapsed": true
   },
   "outputs": [],
   "source": [
    "X_test = test_data.ix[:,6:2878].copy()\n",
    "y_test = test_data.sentiment.copy()"
   ]
  },
  {
   "cell_type": "code",
   "execution_count": 58,
   "metadata": {
    "collapsed": true
   },
   "outputs": [],
   "source": [
    "y_pred = sentiment_model.predict(X_test)"
   ]
  },
  {
   "cell_type": "code",
   "execution_count": 59,
   "metadata": {
    "collapsed": false
   },
   "outputs": [
    {
     "name": "stdout",
     "output_type": "stream",
     "text": [
      "             precision    recall  f1-score   support\n",
      "\n",
      "      False       0.60      0.38      0.46         8\n",
      "       True       0.91      0.96      0.93        52\n",
      "\n",
      "avg / total       0.87      0.88      0.87        60\n",
      "\n"
     ]
    }
   ],
   "source": [
    "print(classification_report(y_test, y_pred))"
   ]
  },
  {
   "cell_type": "markdown",
   "metadata": {},
   "source": [
    "###### predicted sentiment"
   ]
  },
  {
   "cell_type": "code",
   "execution_count": 60,
   "metadata": {
    "collapsed": false
   },
   "outputs": [],
   "source": [
    "predicted_sentiment = sentiment_model.predict_proba(X_all) * 100"
   ]
  },
  {
   "cell_type": "code",
   "execution_count": 61,
   "metadata": {
    "collapsed": false
   },
   "outputs": [
    {
     "name": "stdout",
     "output_type": "stream",
     "text": [
      "[False  True]\n"
     ]
    },
    {
     "data": {
      "text/plain": [
       "99.999962849896988"
      ]
     },
     "execution_count": 61,
     "metadata": {},
     "output_type": "execute_result"
    }
   ],
   "source": [
    "np.set_printoptions(suppress=True)\n",
    "print(sentiment_model.classes_)\n",
    "prediction_probabilities = pd.DataFrame(data=predicted_sentiment, columns=[\"False\", \"True\"])\n",
    "max(prediction_probabilities[\"True\"])"
   ]
  },
  {
   "cell_type": "markdown",
   "metadata": {},
   "source": [
    "As can be seen from the above value, that we do have a probability of _99.99%_ for the most positive review. We can easily comclude that the predicted_sentiment will be between **0.9 to 1.0**"
   ]
  },
  {
   "cell_type": "markdown",
   "metadata": {},
   "source": [
    "### Question 10\n",
    "\n",
    "Consider the most positive review for the `Baby Trend Diaper Champ` according to the `sentiment_model`\n",
    "In what range is the `predicted_sentiment` for this review if the `selected_words_model` is used?"
   ]
  },
  {
   "cell_type": "code",
   "execution_count": null,
   "metadata": {
    "collapsed": false
   },
   "outputs": [],
   "source": [
    "# getting the index of the most positive review.\n",
    "prediction_probabilities[prediction_probabilities['True'] == max(prediction_probabilities[\"True\"])].index.tolist() "
   ]
  },
  {
   "cell_type": "markdown",
   "metadata": {},
   "source": [
    "###### train, test"
   ]
  },
  {
   "cell_type": "code",
   "execution_count": null,
   "metadata": {
    "collapsed": true
   },
   "outputs": [],
   "source": [
    "baby_trend_reviews_2 = amazon_reviews[amazon_reviews['name'] == 'Baby Trend Diaper Champ'].copy()\n",
    "idx_length = baby_trend_reviews_2.rating.size\n",
    "baby_trend_reviews_2.index = range(idx_length)"
   ]
  },
  {
   "cell_type": "code",
   "execution_count": null,
   "metadata": {
    "collapsed": false
   },
   "outputs": [],
   "source": [
    "baby_trend_reviews_2.shape"
   ]
  },
  {
   "cell_type": "code",
   "execution_count": null,
   "metadata": {
    "collapsed": false
   },
   "outputs": [],
   "source": [
    "X_all = baby_trend_reviews_2.ix[:,6:17].copy()"
   ]
  },
  {
   "cell_type": "code",
   "execution_count": null,
   "metadata": {
    "collapsed": false
   },
   "outputs": [],
   "source": [
    "predicted_sentiment = selected_words_model.predict_proba(X_all) * 100"
   ]
  },
  {
   "cell_type": "code",
   "execution_count": null,
   "metadata": {
    "collapsed": false
   },
   "outputs": [],
   "source": [
    "np.set_printoptions(suppress=True)\n",
    "print(selected_words_model.classes_)\n",
    "prediction_probabilities = pd.DataFrame(data=predicted_sentiment, columns=[\"False\", \"True\"])\n",
    "max(prediction_probabilities[\"True\"])"
   ]
  },
  {
   "cell_type": "code",
   "execution_count": null,
   "metadata": {
    "collapsed": false
   },
   "outputs": [],
   "source": [
    "prediction_probabilities.loc[181]"
   ]
  },
  {
   "cell_type": "markdown",
   "metadata": {},
   "source": [
    "### Question 11\n",
    "\n",
    "Consider answers to question 9 & 10 above.\n",
    "Why is the value of the `predicted_sentiment` using `sentiment_model` much more positive than the `selected_words_model`?"
   ]
  },
  {
   "cell_type": "code",
   "execution_count": null,
   "metadata": {
    "collapsed": true
   },
   "outputs": [],
   "source": []
  }
 ],
 "metadata": {
  "anaconda-cloud": {},
  "kernelspec": {
   "display_name": "Python [default]",
   "language": "python",
   "name": "python3"
  },
  "language_info": {
   "codemirror_mode": {
    "name": "ipython",
    "version": 3
   },
   "file_extension": ".py",
   "mimetype": "text/x-python",
   "name": "python",
   "nbconvert_exporter": "python",
   "pygments_lexer": "ipython3",
   "version": "3.5.2"
  }
 },
 "nbformat": 4,
 "nbformat_minor": 0
}
